{
  "nbformat": 4,
  "nbformat_minor": 0,
  "metadata": {
    "kernelspec": {
      "name": "python3",
      "display_name": "Python 3"
    },
    "language_info": {
      "codemirror_mode": {
        "name": "ipython",
        "version": 3
      },
      "file_extension": ".py",
      "mimetype": "text/x-python",
      "name": "python",
      "nbconvert_exporter": "python",
      "pygments_lexer": "ipython3",
      "version": "3.6.5"
    },
    "colab": {
      "name": "Day078_HW.ipynb",
      "provenance": [],
      "collapsed_sections": []
    },
    "accelerator": "GPU"
  },
  "cells": [
    {
      "cell_type": "markdown",
      "metadata": {
        "id": "FT4o9v5WWaFz",
        "colab_type": "text"
      },
      "source": [
        "## Work\n",
        "1. 請嘗試將 preproc_x 替換成以每筆資料的 min/max 進行標準化至 -1 ~ 1 間，再進行訓練\n",
        "2. 請嘗試將 mlp 疊更深 (e.g 5~10 層)，進行訓練後觀察 learning curve 的走勢\n",
        "3. (optional) 請改用 GPU 進行訓練 (如果你有 GPU 的話)，比較使用 CPU 與 GPU 的訓練速度"
      ]
    },
    {
      "cell_type": "code",
      "metadata": {
        "id": "4SmMhABXWaF0",
        "colab_type": "code",
        "colab": {
          "base_uri": "https://localhost:8080/",
          "height": 318
        },
        "outputId": "c7747708-2592-436b-95f6-f7356c0eed14"
      },
      "source": [
        "## \n",
        "\"\"\"\n",
        "Your code here (optional)\n",
        "確認硬體資源\n",
        "\"\"\"\n",
        "!nvidia-smi"
      ],
      "execution_count": 22,
      "outputs": [
        {
          "output_type": "stream",
          "text": [
            "Thu Oct  3 03:13:48 2019       \n",
            "+-----------------------------------------------------------------------------+\n",
            "| NVIDIA-SMI 430.40       Driver Version: 418.67       CUDA Version: 10.1     |\n",
            "|-------------------------------+----------------------+----------------------+\n",
            "| GPU  Name        Persistence-M| Bus-Id        Disp.A | Volatile Uncorr. ECC |\n",
            "| Fan  Temp  Perf  Pwr:Usage/Cap|         Memory-Usage | GPU-Util  Compute M. |\n",
            "|===============================+======================+======================|\n",
            "|   0  Tesla K80           Off  | 00000000:00:04.0 Off |                    0 |\n",
            "| N/A   35C    P8    28W / 149W |      0MiB / 11441MiB |      0%      Default |\n",
            "+-------------------------------+----------------------+----------------------+\n",
            "                                                                               \n",
            "+-----------------------------------------------------------------------------+\n",
            "| Processes:                                                       GPU Memory |\n",
            "|  GPU       PID   Type   Process name                             Usage      |\n",
            "|=============================================================================|\n",
            "|  No running processes found                                                 |\n",
            "+-----------------------------------------------------------------------------+\n"
          ],
          "name": "stdout"
        }
      ]
    },
    {
      "cell_type": "markdown",
      "metadata": {
        "id": "gLr0pN_SZEoN",
        "colab_type": "text"
      },
      "source": [
        ""
      ]
    },
    {
      "cell_type": "code",
      "metadata": {
        "id": "gx-omQ0UWaF4",
        "colab_type": "code",
        "colab": {}
      },
      "source": [
        "import os\n",
        "import keras\n",
        "\n",
        "# 請嘗試設定 GPU：os.environ\n"
      ],
      "execution_count": 0,
      "outputs": []
    },
    {
      "cell_type": "code",
      "metadata": {
        "id": "IRGWhe_zWaF7",
        "colab_type": "code",
        "colab": {}
      },
      "source": [
        "train, test = keras.datasets.cifar10.load_data()"
      ],
      "execution_count": 0,
      "outputs": []
    },
    {
      "cell_type": "code",
      "metadata": {
        "id": "HtdzBOcKWaF9",
        "colab_type": "code",
        "colab": {}
      },
      "source": [
        "## 資料前處理\n",
        "\"\"\"\n",
        "Your code here\n",
        "\"\"\"\n",
        "def preproc_x(x, flatten=True):\n",
        "    x = (x - x.mean()) / (x.max()-x.min())\n",
        "#     x = 2*(((x - x.min()) / (x.max() - x.min()))-0.5)\n",
        "    if flatten:\n",
        "      x = x.reshape((len(x),-1))\n",
        "    return x\n",
        "\n",
        "def preproc_y(y, num_classes=10):\n",
        "    if y.shape[-1] == 1:\n",
        "        y = keras.utils.to_categorical(y, num_classes)\n",
        "    return y"
      ],
      "execution_count": 0,
      "outputs": []
    },
    {
      "cell_type": "code",
      "metadata": {
        "id": "ktjmW02mWaF-",
        "colab_type": "code",
        "colab": {}
      },
      "source": [
        "x_train, y_train = train\n",
        "x_test, y_test = test\n",
        "\n",
        "# 資料前處理 - X 標準化\n",
        "x_train = preproc_x(x_train)\n",
        "x_test = preproc_x(x_test)\n",
        "\n",
        "# 資料前處理 -Y 轉成 onehot\n",
        "y_train = preproc_y(y_train)\n",
        "y_test = preproc_y(y_test)"
      ],
      "execution_count": 0,
      "outputs": []
    },
    {
      "cell_type": "code",
      "metadata": {
        "id": "hM1aJ-_VWaGA",
        "colab_type": "code",
        "colab": {}
      },
      "source": [
        "\"\"\"Code Here\n",
        "建立你的神經網路\n",
        "\"\"\"\n",
        "def build_mlp(input_shape, output_units=10, num_neurons=[512, 256, 128, 128, 128]):\n",
        "    input_layer = keras.layers.Input(input_shape)\n",
        "    \n",
        "    \n",
        "    for i, n_units in enumerate(num_neurons):\n",
        "        if i == 0:\n",
        "            x = keras.layers.Dense(units=n_units, activation=\"relu\", name=\"hidden_layer\"+str(i+1))(input_layer)\n",
        "        else:\n",
        "            x = keras.layers.Dense(units=n_units, activation=\"relu\", name=\"hidden_layer\"+str(i+1))(x)\n",
        "            \n",
        "    out = keras.layers.Dense(units=output_units, activation=\"softmax\", name=\"output\")(x)\n",
        "    \n",
        "    model = keras.models.Model(inputs=[input_layer], outputs=[out])\n",
        "    return model\n",
        "\n"
      ],
      "execution_count": 0,
      "outputs": []
    },
    {
      "cell_type": "code",
      "metadata": {
        "id": "g7pFzDFAm-Jt",
        "colab_type": "code",
        "colab": {
          "base_uri": "https://localhost:8080/",
          "height": 407
        },
        "outputId": "79915574-9962-47a3-8c34-fac8f867b7a6"
      },
      "source": [
        "model = build_mlp(input_shape=x_train.shape[1:])\n",
        "model.summary()"
      ],
      "execution_count": 69,
      "outputs": [
        {
          "output_type": "stream",
          "text": [
            "Model: \"model_2\"\n",
            "_________________________________________________________________\n",
            "Layer (type)                 Output Shape              Param #   \n",
            "=================================================================\n",
            "input_2 (InputLayer)         (None, 3072)              0         \n",
            "_________________________________________________________________\n",
            "hidden_layer1 (Dense)        (None, 512)               1573376   \n",
            "_________________________________________________________________\n",
            "hidden_layer2 (Dense)        (None, 256)               131328    \n",
            "_________________________________________________________________\n",
            "hidden_layer3 (Dense)        (None, 128)               32896     \n",
            "_________________________________________________________________\n",
            "hidden_layer4 (Dense)        (None, 128)               16512     \n",
            "_________________________________________________________________\n",
            "hidden_layer5 (Dense)        (None, 128)               16512     \n",
            "_________________________________________________________________\n",
            "output (Dense)               (None, 10)                1290      \n",
            "=================================================================\n",
            "Total params: 1,771,914\n",
            "Trainable params: 1,771,914\n",
            "Non-trainable params: 0\n",
            "_________________________________________________________________\n"
          ],
          "name": "stdout"
        }
      ]
    },
    {
      "cell_type": "code",
      "metadata": {
        "id": "rqUzetUMWaGC",
        "colab_type": "code",
        "colab": {}
      },
      "source": [
        "## 超參數設定\n",
        "LEARNING_RATE = 0.001\n",
        "EPOCHS = 100\n",
        "BATCH_SIZE = 256"
      ],
      "execution_count": 0,
      "outputs": []
    },
    {
      "cell_type": "code",
      "metadata": {
        "id": "m3dHg_iEWaGD",
        "colab_type": "code",
        "colab": {
          "base_uri": "https://localhost:8080/",
          "height": 107
        },
        "outputId": "5cfb4dba-dd87-4600-91f5-8ea18b241d6e"
      },
      "source": [
        "optimizer = keras.optimizers.Adam(lr=LEARNING_RATE)\n",
        "model.compile(loss=\"categorical_crossentropy\", metrics=[\"accuracy\"], optimizer=optimizer)"
      ],
      "execution_count": 71,
      "outputs": [
        {
          "output_type": "stream",
          "text": [
            "WARNING:tensorflow:From /usr/local/lib/python3.6/dist-packages/keras/optimizers.py:793: The name tf.train.Optimizer is deprecated. Please use tf.compat.v1.train.Optimizer instead.\n",
            "\n",
            "WARNING:tensorflow:From /usr/local/lib/python3.6/dist-packages/keras/backend/tensorflow_backend.py:3576: The name tf.log is deprecated. Please use tf.math.log instead.\n",
            "\n"
          ],
          "name": "stdout"
        }
      ]
    },
    {
      "cell_type": "code",
      "metadata": {
        "id": "UygA7uvoWaGF",
        "colab_type": "code",
        "colab": {
          "base_uri": "https://localhost:8080/",
          "height": 1000
        },
        "outputId": "3c452304-b6ea-47c9-e589-00b7356e0981"
      },
      "source": [
        "model.fit(x_train, y_train, \n",
        "          epochs=EPOCHS, \n",
        "          batch_size=BATCH_SIZE, \n",
        "          validation_data=(x_test, y_test), \n",
        "          shuffle=True)"
      ],
      "execution_count": 72,
      "outputs": [
        {
          "output_type": "stream",
          "text": [
            "WARNING:tensorflow:From /usr/local/lib/python3.6/dist-packages/tensorflow/python/ops/math_grad.py:1250: add_dispatch_support.<locals>.wrapper (from tensorflow.python.ops.array_ops) is deprecated and will be removed in a future version.\n",
            "Instructions for updating:\n",
            "Use tf.where in 2.0, which has the same broadcast rule as np.where\n",
            "WARNING:tensorflow:From /usr/local/lib/python3.6/dist-packages/keras/backend/tensorflow_backend.py:1033: The name tf.assign_add is deprecated. Please use tf.compat.v1.assign_add instead.\n",
            "\n",
            "Train on 50000 samples, validate on 10000 samples\n",
            "Epoch 1/100\n",
            "50000/50000 [==============================] - 7s 143us/step - loss: 1.6811 - acc: 0.4022 - val_loss: 1.5109 - val_acc: 0.4653\n",
            "Epoch 2/100\n",
            "50000/50000 [==============================] - 3s 55us/step - loss: 1.4451 - acc: 0.4887 - val_loss: 1.4621 - val_acc: 0.4860\n",
            "Epoch 3/100\n",
            "50000/50000 [==============================] - 3s 54us/step - loss: 1.3277 - acc: 0.5334 - val_loss: 1.4164 - val_acc: 0.5018\n",
            "Epoch 4/100\n",
            "50000/50000 [==============================] - 3s 53us/step - loss: 1.2277 - acc: 0.5672 - val_loss: 1.3913 - val_acc: 0.5101\n",
            "Epoch 5/100\n",
            "50000/50000 [==============================] - 3s 54us/step - loss: 1.1372 - acc: 0.6001 - val_loss: 1.3446 - val_acc: 0.5364\n",
            "Epoch 6/100\n",
            "50000/50000 [==============================] - 3s 55us/step - loss: 1.0616 - acc: 0.6246 - val_loss: 1.3586 - val_acc: 0.5285\n",
            "Epoch 7/100\n",
            "50000/50000 [==============================] - 3s 55us/step - loss: 0.9781 - acc: 0.6526 - val_loss: 1.3872 - val_acc: 0.5350\n",
            "Epoch 8/100\n",
            "50000/50000 [==============================] - 3s 54us/step - loss: 0.9124 - acc: 0.6769 - val_loss: 1.3751 - val_acc: 0.5430\n",
            "Epoch 9/100\n",
            "50000/50000 [==============================] - 3s 54us/step - loss: 0.8392 - acc: 0.7012 - val_loss: 1.4278 - val_acc: 0.5391\n",
            "Epoch 10/100\n",
            "50000/50000 [==============================] - 3s 56us/step - loss: 0.7674 - acc: 0.7279 - val_loss: 1.4330 - val_acc: 0.5467\n",
            "Epoch 11/100\n",
            "50000/50000 [==============================] - 3s 54us/step - loss: 0.7121 - acc: 0.7475 - val_loss: 1.5103 - val_acc: 0.5453\n",
            "Epoch 12/100\n",
            "50000/50000 [==============================] - 3s 54us/step - loss: 0.6455 - acc: 0.7735 - val_loss: 1.5671 - val_acc: 0.5379\n",
            "Epoch 13/100\n",
            "50000/50000 [==============================] - 3s 55us/step - loss: 0.5847 - acc: 0.7924 - val_loss: 1.6760 - val_acc: 0.5464\n",
            "Epoch 14/100\n",
            "50000/50000 [==============================] - 3s 55us/step - loss: 0.5363 - acc: 0.8082 - val_loss: 1.7545 - val_acc: 0.5388\n",
            "Epoch 15/100\n",
            "50000/50000 [==============================] - 3s 55us/step - loss: 0.4912 - acc: 0.8265 - val_loss: 1.7904 - val_acc: 0.5406\n",
            "Epoch 16/100\n",
            "50000/50000 [==============================] - 3s 55us/step - loss: 0.4455 - acc: 0.8410 - val_loss: 1.8905 - val_acc: 0.5333\n",
            "Epoch 17/100\n",
            "50000/50000 [==============================] - 3s 54us/step - loss: 0.4021 - acc: 0.8588 - val_loss: 1.9603 - val_acc: 0.5419\n",
            "Epoch 18/100\n",
            "50000/50000 [==============================] - 3s 53us/step - loss: 0.3720 - acc: 0.8686 - val_loss: 2.1124 - val_acc: 0.5453\n",
            "Epoch 19/100\n",
            "50000/50000 [==============================] - 3s 55us/step - loss: 0.3409 - acc: 0.8787 - val_loss: 2.1683 - val_acc: 0.5385\n",
            "Epoch 20/100\n",
            "50000/50000 [==============================] - 3s 54us/step - loss: 0.3208 - acc: 0.8863 - val_loss: 2.2836 - val_acc: 0.5387\n",
            "Epoch 21/100\n",
            "50000/50000 [==============================] - 3s 54us/step - loss: 0.2847 - acc: 0.8989 - val_loss: 2.3596 - val_acc: 0.5325\n",
            "Epoch 22/100\n",
            "50000/50000 [==============================] - 3s 53us/step - loss: 0.2729 - acc: 0.9033 - val_loss: 2.4405 - val_acc: 0.5368\n",
            "Epoch 23/100\n",
            "50000/50000 [==============================] - 3s 56us/step - loss: 0.2628 - acc: 0.9073 - val_loss: 2.3855 - val_acc: 0.5379\n",
            "Epoch 24/100\n",
            "50000/50000 [==============================] - 3s 55us/step - loss: 0.2247 - acc: 0.9227 - val_loss: 2.5552 - val_acc: 0.5344\n",
            "Epoch 25/100\n",
            "50000/50000 [==============================] - 3s 55us/step - loss: 0.2342 - acc: 0.9188 - val_loss: 2.5352 - val_acc: 0.5392\n",
            "Epoch 26/100\n",
            "50000/50000 [==============================] - 3s 53us/step - loss: 0.2082 - acc: 0.9271 - val_loss: 2.6783 - val_acc: 0.5292\n",
            "Epoch 27/100\n",
            "50000/50000 [==============================] - 3s 53us/step - loss: 0.2027 - acc: 0.9298 - val_loss: 2.7397 - val_acc: 0.5294\n",
            "Epoch 28/100\n",
            "50000/50000 [==============================] - 3s 54us/step - loss: 0.1955 - acc: 0.9311 - val_loss: 2.7500 - val_acc: 0.5402\n",
            "Epoch 29/100\n",
            "50000/50000 [==============================] - 3s 54us/step - loss: 0.1836 - acc: 0.9361 - val_loss: 2.8053 - val_acc: 0.5333\n",
            "Epoch 30/100\n",
            "50000/50000 [==============================] - 3s 54us/step - loss: 0.1841 - acc: 0.9360 - val_loss: 2.9714 - val_acc: 0.5235\n",
            "Epoch 31/100\n",
            "50000/50000 [==============================] - 3s 55us/step - loss: 0.1763 - acc: 0.9393 - val_loss: 2.8905 - val_acc: 0.5361\n",
            "Epoch 32/100\n",
            "50000/50000 [==============================] - 3s 53us/step - loss: 0.1664 - acc: 0.9431 - val_loss: 2.8676 - val_acc: 0.5328\n",
            "Epoch 33/100\n",
            "50000/50000 [==============================] - 3s 52us/step - loss: 0.1491 - acc: 0.9478 - val_loss: 3.0158 - val_acc: 0.5411\n",
            "Epoch 34/100\n",
            "50000/50000 [==============================] - 3s 55us/step - loss: 0.1572 - acc: 0.9452 - val_loss: 3.0097 - val_acc: 0.5385\n",
            "Epoch 35/100\n",
            "50000/50000 [==============================] - 3s 55us/step - loss: 0.1498 - acc: 0.9478 - val_loss: 3.0136 - val_acc: 0.5321\n",
            "Epoch 36/100\n",
            "50000/50000 [==============================] - 3s 55us/step - loss: 0.1500 - acc: 0.9488 - val_loss: 3.1201 - val_acc: 0.5341\n",
            "Epoch 37/100\n",
            "50000/50000 [==============================] - 3s 54us/step - loss: 0.1281 - acc: 0.9570 - val_loss: 3.1193 - val_acc: 0.5423\n",
            "Epoch 38/100\n",
            "50000/50000 [==============================] - 3s 55us/step - loss: 0.1365 - acc: 0.9540 - val_loss: 3.1064 - val_acc: 0.5336\n",
            "Epoch 39/100\n",
            "50000/50000 [==============================] - 3s 55us/step - loss: 0.1292 - acc: 0.9554 - val_loss: 3.1410 - val_acc: 0.5274\n",
            "Epoch 40/100\n",
            "50000/50000 [==============================] - 3s 55us/step - loss: 0.1389 - acc: 0.9529 - val_loss: 3.2582 - val_acc: 0.5353\n",
            "Epoch 41/100\n",
            "50000/50000 [==============================] - 3s 55us/step - loss: 0.1178 - acc: 0.9595 - val_loss: 3.2680 - val_acc: 0.5362\n",
            "Epoch 42/100\n",
            "50000/50000 [==============================] - 3s 56us/step - loss: 0.1265 - acc: 0.9577 - val_loss: 3.2742 - val_acc: 0.5310\n",
            "Epoch 43/100\n",
            "50000/50000 [==============================] - 3s 54us/step - loss: 0.1308 - acc: 0.9561 - val_loss: 3.2930 - val_acc: 0.5344\n",
            "Epoch 44/100\n",
            "50000/50000 [==============================] - 3s 56us/step - loss: 0.1131 - acc: 0.9624 - val_loss: 3.3385 - val_acc: 0.5339\n",
            "Epoch 45/100\n",
            "50000/50000 [==============================] - 3s 54us/step - loss: 0.1062 - acc: 0.9638 - val_loss: 3.3725 - val_acc: 0.5394\n",
            "Epoch 46/100\n",
            "50000/50000 [==============================] - 3s 57us/step - loss: 0.1228 - acc: 0.9598 - val_loss: 3.2802 - val_acc: 0.5269\n",
            "Epoch 47/100\n",
            "50000/50000 [==============================] - 3s 56us/step - loss: 0.1109 - acc: 0.9626 - val_loss: 3.2705 - val_acc: 0.5305\n",
            "Epoch 48/100\n",
            "50000/50000 [==============================] - 3s 55us/step - loss: 0.1099 - acc: 0.9637 - val_loss: 3.5223 - val_acc: 0.5323\n",
            "Epoch 49/100\n",
            "50000/50000 [==============================] - 3s 55us/step - loss: 0.1072 - acc: 0.9648 - val_loss: 3.5486 - val_acc: 0.5291\n",
            "Epoch 50/100\n",
            "50000/50000 [==============================] - 3s 56us/step - loss: 0.1112 - acc: 0.9619 - val_loss: 3.4348 - val_acc: 0.5348\n",
            "Epoch 51/100\n",
            "50000/50000 [==============================] - 3s 56us/step - loss: 0.1056 - acc: 0.9648 - val_loss: 3.4673 - val_acc: 0.5368\n",
            "Epoch 52/100\n",
            "50000/50000 [==============================] - 3s 55us/step - loss: 0.0982 - acc: 0.9674 - val_loss: 3.4648 - val_acc: 0.5345\n",
            "Epoch 53/100\n",
            "50000/50000 [==============================] - 3s 59us/step - loss: 0.0939 - acc: 0.9683 - val_loss: 3.4868 - val_acc: 0.5344\n",
            "Epoch 54/100\n",
            "50000/50000 [==============================] - 3s 56us/step - loss: 0.0932 - acc: 0.9691 - val_loss: 3.5728 - val_acc: 0.5402\n",
            "Epoch 55/100\n",
            "50000/50000 [==============================] - 3s 55us/step - loss: 0.1042 - acc: 0.9654 - val_loss: 3.5222 - val_acc: 0.5338\n",
            "Epoch 56/100\n",
            "50000/50000 [==============================] - 3s 55us/step - loss: 0.0983 - acc: 0.9666 - val_loss: 3.5970 - val_acc: 0.5396\n",
            "Epoch 57/100\n",
            "50000/50000 [==============================] - 3s 55us/step - loss: 0.0797 - acc: 0.9736 - val_loss: 3.6570 - val_acc: 0.5328\n",
            "Epoch 58/100\n",
            "50000/50000 [==============================] - 3s 54us/step - loss: 0.0877 - acc: 0.9715 - val_loss: 3.7156 - val_acc: 0.5306\n",
            "Epoch 59/100\n",
            "50000/50000 [==============================] - 3s 55us/step - loss: 0.1144 - acc: 0.9626 - val_loss: 3.3862 - val_acc: 0.5324\n",
            "Epoch 60/100\n",
            "50000/50000 [==============================] - 3s 55us/step - loss: 0.0922 - acc: 0.9688 - val_loss: 3.5076 - val_acc: 0.5334\n",
            "Epoch 61/100\n",
            "50000/50000 [==============================] - 3s 55us/step - loss: 0.0878 - acc: 0.9700 - val_loss: 3.6043 - val_acc: 0.5266\n",
            "Epoch 62/100\n",
            "50000/50000 [==============================] - 3s 55us/step - loss: 0.0862 - acc: 0.9720 - val_loss: 3.5169 - val_acc: 0.5296\n",
            "Epoch 63/100\n",
            "50000/50000 [==============================] - 3s 55us/step - loss: 0.0862 - acc: 0.9708 - val_loss: 3.7340 - val_acc: 0.5347\n",
            "Epoch 64/100\n",
            "50000/50000 [==============================] - 3s 56us/step - loss: 0.0810 - acc: 0.9732 - val_loss: 3.6126 - val_acc: 0.5284\n",
            "Epoch 65/100\n",
            "50000/50000 [==============================] - 3s 55us/step - loss: 0.0772 - acc: 0.9739 - val_loss: 3.6478 - val_acc: 0.5344\n",
            "Epoch 66/100\n",
            "50000/50000 [==============================] - 3s 55us/step - loss: 0.0974 - acc: 0.9684 - val_loss: 3.5831 - val_acc: 0.5328\n",
            "Epoch 67/100\n",
            "50000/50000 [==============================] - 3s 54us/step - loss: 0.0768 - acc: 0.9752 - val_loss: 3.6757 - val_acc: 0.5298\n",
            "Epoch 68/100\n",
            "50000/50000 [==============================] - 3s 54us/step - loss: 0.0831 - acc: 0.9727 - val_loss: 3.6654 - val_acc: 0.5378\n",
            "Epoch 69/100\n",
            "50000/50000 [==============================] - 3s 54us/step - loss: 0.0806 - acc: 0.9738 - val_loss: 3.7051 - val_acc: 0.5273\n",
            "Epoch 70/100\n",
            "50000/50000 [==============================] - 3s 55us/step - loss: 0.0744 - acc: 0.9748 - val_loss: 3.7874 - val_acc: 0.5367\n",
            "Epoch 71/100\n",
            "50000/50000 [==============================] - 3s 55us/step - loss: 0.0804 - acc: 0.9740 - val_loss: 3.6950 - val_acc: 0.5270\n",
            "Epoch 72/100\n",
            "50000/50000 [==============================] - 3s 56us/step - loss: 0.0801 - acc: 0.9734 - val_loss: 3.7174 - val_acc: 0.5294\n",
            "Epoch 73/100\n",
            "50000/50000 [==============================] - 3s 55us/step - loss: 0.0935 - acc: 0.9704 - val_loss: 3.6336 - val_acc: 0.5419\n",
            "Epoch 74/100\n",
            "50000/50000 [==============================] - 3s 54us/step - loss: 0.0636 - acc: 0.9798 - val_loss: 3.7843 - val_acc: 0.5355\n",
            "Epoch 75/100\n",
            "50000/50000 [==============================] - 3s 56us/step - loss: 0.0727 - acc: 0.9764 - val_loss: 3.7515 - val_acc: 0.5350\n",
            "Epoch 76/100\n",
            "50000/50000 [==============================] - 3s 55us/step - loss: 0.0700 - acc: 0.9775 - val_loss: 3.7043 - val_acc: 0.5389\n",
            "Epoch 77/100\n",
            "50000/50000 [==============================] - 3s 55us/step - loss: 0.0764 - acc: 0.9748 - val_loss: 3.7440 - val_acc: 0.5384\n",
            "Epoch 78/100\n",
            "50000/50000 [==============================] - 3s 56us/step - loss: 0.0606 - acc: 0.9800 - val_loss: 3.8548 - val_acc: 0.5324\n",
            "Epoch 79/100\n",
            "50000/50000 [==============================] - 3s 57us/step - loss: 0.0917 - acc: 0.9694 - val_loss: 3.5930 - val_acc: 0.5302\n",
            "Epoch 80/100\n",
            "50000/50000 [==============================] - 3s 54us/step - loss: 0.0673 - acc: 0.9793 - val_loss: 3.6570 - val_acc: 0.5379\n",
            "Epoch 81/100\n",
            "50000/50000 [==============================] - 3s 55us/step - loss: 0.0612 - acc: 0.9799 - val_loss: 3.8225 - val_acc: 0.5365\n",
            "Epoch 82/100\n",
            "50000/50000 [==============================] - 3s 54us/step - loss: 0.0754 - acc: 0.9757 - val_loss: 3.6117 - val_acc: 0.5337\n",
            "Epoch 83/100\n",
            "50000/50000 [==============================] - 3s 54us/step - loss: 0.0806 - acc: 0.9739 - val_loss: 3.7062 - val_acc: 0.5325\n",
            "Epoch 84/100\n",
            "50000/50000 [==============================] - 3s 54us/step - loss: 0.0595 - acc: 0.9805 - val_loss: 3.8964 - val_acc: 0.5352\n",
            "Epoch 85/100\n",
            "50000/50000 [==============================] - 3s 54us/step - loss: 0.0572 - acc: 0.9811 - val_loss: 3.8252 - val_acc: 0.5355\n",
            "Epoch 86/100\n",
            "50000/50000 [==============================] - 3s 56us/step - loss: 0.0779 - acc: 0.9754 - val_loss: 3.7577 - val_acc: 0.5297\n",
            "Epoch 87/100\n",
            "50000/50000 [==============================] - 3s 55us/step - loss: 0.0707 - acc: 0.9766 - val_loss: 3.7689 - val_acc: 0.5310\n",
            "Epoch 88/100\n",
            "50000/50000 [==============================] - 3s 57us/step - loss: 0.0690 - acc: 0.9776 - val_loss: 3.7195 - val_acc: 0.5388\n",
            "Epoch 89/100\n",
            "50000/50000 [==============================] - 3s 54us/step - loss: 0.0623 - acc: 0.9802 - val_loss: 3.7674 - val_acc: 0.5271\n",
            "Epoch 90/100\n",
            "50000/50000 [==============================] - 3s 53us/step - loss: 0.0649 - acc: 0.9785 - val_loss: 3.9250 - val_acc: 0.5276\n",
            "Epoch 91/100\n",
            "50000/50000 [==============================] - 3s 54us/step - loss: 0.0641 - acc: 0.9797 - val_loss: 3.9006 - val_acc: 0.5306\n",
            "Epoch 92/100\n",
            "50000/50000 [==============================] - 3s 56us/step - loss: 0.0698 - acc: 0.9780 - val_loss: 3.7828 - val_acc: 0.5335\n",
            "Epoch 93/100\n",
            "50000/50000 [==============================] - 3s 56us/step - loss: 0.0575 - acc: 0.9811 - val_loss: 3.8878 - val_acc: 0.5293\n",
            "Epoch 94/100\n",
            "50000/50000 [==============================] - 3s 56us/step - loss: 0.0716 - acc: 0.9773 - val_loss: 3.6541 - val_acc: 0.5324\n",
            "Epoch 95/100\n",
            "50000/50000 [==============================] - 3s 56us/step - loss: 0.0570 - acc: 0.9816 - val_loss: 3.8983 - val_acc: 0.5274\n",
            "Epoch 96/100\n",
            "50000/50000 [==============================] - 3s 54us/step - loss: 0.0615 - acc: 0.9805 - val_loss: 3.8996 - val_acc: 0.5301\n",
            "Epoch 97/100\n",
            "50000/50000 [==============================] - 3s 54us/step - loss: 0.0718 - acc: 0.9773 - val_loss: 3.7413 - val_acc: 0.5340\n",
            "Epoch 98/100\n",
            "50000/50000 [==============================] - 3s 54us/step - loss: 0.0508 - acc: 0.9837 - val_loss: 3.8269 - val_acc: 0.5404\n",
            "Epoch 99/100\n",
            "50000/50000 [==============================] - 3s 54us/step - loss: 0.0568 - acc: 0.9815 - val_loss: 3.8344 - val_acc: 0.5362\n",
            "Epoch 100/100\n",
            "50000/50000 [==============================] - 3s 54us/step - loss: 0.0694 - acc: 0.9779 - val_loss: 3.7390 - val_acc: 0.5389\n"
          ],
          "name": "stdout"
        },
        {
          "output_type": "execute_result",
          "data": {
            "text/plain": [
              "<keras.callbacks.History at 0x7fca363bfe10>"
            ]
          },
          "metadata": {
            "tags": []
          },
          "execution_count": 72
        }
      ]
    },
    {
      "cell_type": "code",
      "metadata": {
        "id": "npQhRJPRWaGH",
        "colab_type": "code",
        "colab": {
          "base_uri": "https://localhost:8080/",
          "height": 544
        },
        "outputId": "30a52b79-ff69-4cd6-dc90-eff9eedf1e00"
      },
      "source": [
        "import matplotlib.pyplot as plt\n",
        "\n",
        "\n",
        "train_loss = model.history.history[\"loss\"]\n",
        "valid_loss = model.history.history[\"val_loss\"]\n",
        "\n",
        "train_acc = model.history.history[\"acc\"]\n",
        "valid_acc = model.history.history[\"val_acc\"]\n",
        "\n",
        "plt.plot(range(len(train_loss)), train_loss, label=\"train loss\")\n",
        "plt.plot(range(len(valid_loss)), valid_loss, label=\"valid loss\")\n",
        "plt.legend()\n",
        "plt.title(\"Loss\")\n",
        "plt.show()\n",
        "\n",
        "plt.plot(range(len(train_acc)), train_acc, label=\"train accuracy\")\n",
        "plt.plot(range(len(valid_acc)), valid_acc, label=\"valid accuracy\")\n",
        "plt.legend()\n",
        "plt.title(\"Accuracy\")\n",
        "plt.show()"
      ],
      "execution_count": 73,
      "outputs": [
        {
          "output_type": "display_data",
          "data": {
            "image/png": "[encoded data removed]",
            "text/plain": [
              "<Figure size 432x288 with 1 Axes>"
            ]
          },
          "metadata": {
            "tags": []
          }
        },
        {
          "output_type": "display_data",
          "data": {
            "image/png": "[encoded data removed]",
            "text/plain": [
              "<Figure size 432x288 with 1 Axes>"
            ]
          },
          "metadata": {
            "tags": []
          }
        }
      ]
    }
  ]
}