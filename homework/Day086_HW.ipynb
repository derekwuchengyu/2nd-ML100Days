{
  "nbformat": 4,
  "nbformat_minor": 0,
  "metadata": {
    "kernelspec": {
      "name": "python3",
      "display_name": "Python 3"
    },
    "language_info": {
      "codemirror_mode": {
        "name": "ipython",
        "version": 3
      },
      "file_extension": ".py",
      "mimetype": "text/x-python",
      "name": "python",
      "nbconvert_exporter": "python",
      "pygments_lexer": "ipython3",
      "version": "3.6.5"
    },
    "colab": {
      "name": "Day086_HW.ipynb",
      "provenance": [],
      "collapsed_sections": []
    },
    "accelerator": "GPU"
  },
  "cells": [
    {
      "cell_type": "markdown",
      "metadata": {
        "id": "hijKL-E3jocE",
        "colab_type": "text"
      },
      "source": [
        "## Work\n",
        "1. 試比較 save_best_only 與否的差異\n",
        "2. 請僅存入將 save_weights_only 設定為 True, 並嘗試 reset ipynb 並將模型與權重重新建回並預測 x_test"
      ]
    },
    {
      "cell_type": "code",
      "metadata": {
        "id": "Rc2Rzi53jocG",
        "colab_type": "code",
        "colab": {
          "base_uri": "https://localhost:8080/",
          "height": 35
        },
        "outputId": "91f8f23f-b933-48b6-cb8b-6e28daca9f49"
      },
      "source": [
        "import os\n",
        "import keras\n",
        "\n",
        "# Disable GPU\n",
        "# os.environ[\"CUDA_VISIBLE_DEVICES\"] = \"\""
      ],
      "execution_count": 1,
      "outputs": [
        {
          "output_type": "stream",
          "text": [
            "Using TensorFlow backend.\n"
          ],
          "name": "stderr"
        }
      ]
    },
    {
      "cell_type": "code",
      "metadata": {
        "id": "y6pAPiRtjocN",
        "colab_type": "code",
        "colab": {
          "base_uri": "https://localhost:8080/",
          "height": 52
        },
        "outputId": "3147031f-9b66-4dda-bf31-49a5db19511a"
      },
      "source": [
        "train, test = keras.datasets.cifar10.load_data()"
      ],
      "execution_count": 2,
      "outputs": [
        {
          "output_type": "stream",
          "text": [
            "Downloading data from https://www.cs.toronto.edu/~kriz/cifar-10-python.tar.gz\n",
            "170500096/170498071 [==============================] - 3s 0us/step\n"
          ],
          "name": "stdout"
        }
      ]
    },
    {
      "cell_type": "code",
      "metadata": {
        "id": "xmns1_yijocS",
        "colab_type": "code",
        "colab": {}
      },
      "source": [
        "## 資料前處理\n",
        "def preproc_x(x, flatten=True):\n",
        "    x = x / 255.\n",
        "    if flatten:\n",
        "        x = x.reshape((len(x), -1))\n",
        "    return x\n",
        "\n",
        "def preproc_y(y, num_classes=10):\n",
        "    if y.shape[-1] == 1:\n",
        "        y = keras.utils.to_categorical(y, num_classes)\n",
        "    return y    "
      ],
      "execution_count": 0,
      "outputs": []
    },
    {
      "cell_type": "code",
      "metadata": {
        "id": "YDA-lFRYjocX",
        "colab_type": "code",
        "colab": {}
      },
      "source": [
        "x_train, y_train = train\n",
        "x_test, y_test = test\n",
        "\n",
        "# Preproc the inputs\n",
        "x_train = preproc_x(x_train)\n",
        "x_test = preproc_x(x_test)\n",
        "\n",
        "# Preprc the outputs\n",
        "y_train = preproc_y(y_train)\n",
        "y_test = preproc_y(y_test)"
      ],
      "execution_count": 0,
      "outputs": []
    },
    {
      "cell_type": "code",
      "metadata": {
        "id": "1DHPAKCZjocb",
        "colab_type": "code",
        "colab": {}
      },
      "source": [
        "  \n",
        "from keras.layers import BatchNormalization\n",
        "def build_mlp(input_shape, output_units=10, num_neurons=[518, 256, 128]):\n",
        "    x = input_layer = keras.layers.Input(input_shape)\n",
        "    for i,n_units  in enumerate(num_neurons):\n",
        "      x = keras.layers.Dense(units=n_units,\n",
        "                             activation=\"relu\",\n",
        "                             name=\"hidden_layer\"+str(i+1))(x)\n",
        "      x = BatchNormalization()(x)\n",
        "      \n",
        "    out = keras.layers.Dense(units=output_units,activation=\"softmax\",name=\"output_layer\")(x)\n",
        "    model = keras.models.Model(inputs=[input_layer], outputs=[out])\n",
        "    return model"
      ],
      "execution_count": 0,
      "outputs": []
    },
    {
      "cell_type": "code",
      "metadata": {
        "id": "4TjDKVm6jocf",
        "colab_type": "code",
        "colab": {}
      },
      "source": [
        "\"\"\"Code Here\n",
        "設定超參數\n",
        "\"\"\"\n",
        "LEARNING_RATE = 1e-3\n",
        "EPOCHS = 50\n",
        "BATCH_SIZE = 1024\n",
        "MOMENTUM = 0.95"
      ],
      "execution_count": 0,
      "outputs": []
    },
    {
      "cell_type": "code",
      "metadata": {
        "id": "Th0ZXnhSjoch",
        "colab_type": "code",
        "colab": {
          "base_uri": "https://localhost:8080/",
          "height": 1000
        },
        "outputId": "1a03426d-88b3-4ebf-908b-6cb83146c508"
      },
      "source": [
        "# 載入 Callbacks\n",
        "\"\"\"Code Here\n",
        "設定 callbacks: model checkpoint\n",
        "\"\"\"\n",
        "from keras.callbacks import ModelCheckpoint\n",
        "\n",
        "model_ckpt = ModelCheckpoint(filepath=\"./tmp.h5\",\n",
        "                             monitor=\"val_loss\",\n",
        "                             save_weights_only=True)\n",
        "\n",
        "\n",
        "results = {}\n",
        "\"\"\"Code Here\n",
        "撰寫你的訓練流程並將結果用 dictionary 紀錄\n",
        "\"\"\"\n",
        "model = build_mlp(input_shape=x_train.shape[1:])\n",
        "model.summary()\n",
        "optimizer = keras.optimizers.SGD(lr=LEARNING_RATE, nesterov=True, momentum=MOMENTUM)\n",
        "model.compile(loss=\"categorical_crossentropy\", metrics=[\"accuracy\"], optimizer=optimizer)\n",
        "\n",
        "model.fit(x_train, y_train, \n",
        "          epochs=EPOCHS, \n",
        "          batch_size=BATCH_SIZE, \n",
        "          validation_data=(x_test, y_test), \n",
        "          shuffle=True,\n",
        "          callbacks=[model_ckpt]\n",
        "         )\n",
        "\n",
        "\n",
        "# Collect results\n",
        "train_loss = model.history.history[\"loss\"]\n",
        "valid_loss = model.history.history[\"val_loss\"]\n",
        "train_acc = model.history.history[\"acc\"]\n",
        "valid_acc = model.history.history[\"val_acc\"]\n",
        "\n",
        "# Load back\n",
        "model = keras.models.load_model(\"./tmp.h5\")\n",
        "loss_loadback, acc_loadback = model.evaluate(x_test, y_test)\n"
      ],
      "execution_count": 10,
      "outputs": [
        {
          "output_type": "stream",
          "text": [
            "Model: \"model_2\"\n",
            "_________________________________________________________________\n",
            "Layer (type)                 Output Shape              Param #   \n",
            "=================================================================\n",
            "input_2 (InputLayer)         (None, 3072)              0         \n",
            "_________________________________________________________________\n",
            "hidden_layer1 (Dense)        (None, 518)               1591814   \n",
            "_________________________________________________________________\n",
            "batch_normalization_4 (Batch (None, 518)               2072      \n",
            "_________________________________________________________________\n",
            "hidden_layer2 (Dense)        (None, 256)               132864    \n",
            "_________________________________________________________________\n",
            "batch_normalization_5 (Batch (None, 256)               1024      \n",
            "_________________________________________________________________\n",
            "hidden_layer3 (Dense)        (None, 128)               32896     \n",
            "_________________________________________________________________\n",
            "batch_normalization_6 (Batch (None, 128)               512       \n",
            "_________________________________________________________________\n",
            "output_layer (Dense)         (None, 10)                1290      \n",
            "=================================================================\n",
            "Total params: 1,762,472\n",
            "Trainable params: 1,760,668\n",
            "Non-trainable params: 1,804\n",
            "_________________________________________________________________\n",
            "Train on 50000 samples, validate on 10000 samples\n",
            "Epoch 1/50\n",
            "50000/50000 [==============================] - 3s 55us/step - loss: 2.2260 - acc: 0.2661 - val_loss: 2.1340 - val_acc: 0.3119\n",
            "Epoch 2/50\n",
            "50000/50000 [==============================] - 2s 32us/step - loss: 1.7495 - acc: 0.3877 - val_loss: 1.8219 - val_acc: 0.3735\n",
            "Epoch 3/50\n",
            "50000/50000 [==============================] - 2s 32us/step - loss: 1.6246 - acc: 0.4310 - val_loss: 1.6844 - val_acc: 0.4085\n",
            "Epoch 4/50\n",
            "50000/50000 [==============================] - 2s 32us/step - loss: 1.5500 - acc: 0.4561 - val_loss: 1.6466 - val_acc: 0.4246\n",
            "Epoch 5/50\n",
            "50000/50000 [==============================] - 2s 33us/step - loss: 1.4950 - acc: 0.4760 - val_loss: 1.5980 - val_acc: 0.4365\n",
            "Epoch 6/50\n",
            "50000/50000 [==============================] - 2s 33us/step - loss: 1.4502 - acc: 0.4935 - val_loss: 1.5847 - val_acc: 0.4416\n",
            "Epoch 7/50\n",
            "50000/50000 [==============================] - 2s 32us/step - loss: 1.4105 - acc: 0.5070 - val_loss: 1.5409 - val_acc: 0.4591\n",
            "Epoch 8/50\n",
            "50000/50000 [==============================] - 2s 33us/step - loss: 1.3733 - acc: 0.5197 - val_loss: 1.5340 - val_acc: 0.4588\n",
            "Epoch 9/50\n",
            "50000/50000 [==============================] - 2s 32us/step - loss: 1.3433 - acc: 0.5298 - val_loss: 1.5296 - val_acc: 0.4587\n",
            "Epoch 10/50\n",
            "50000/50000 [==============================] - 2s 32us/step - loss: 1.3125 - acc: 0.5416 - val_loss: 1.5060 - val_acc: 0.4715\n",
            "Epoch 11/50\n",
            "50000/50000 [==============================] - 2s 32us/step - loss: 1.2832 - acc: 0.5512 - val_loss: 1.4973 - val_acc: 0.4742\n",
            "Epoch 12/50\n",
            "50000/50000 [==============================] - 2s 32us/step - loss: 1.2564 - acc: 0.5632 - val_loss: 1.4784 - val_acc: 0.4772\n",
            "Epoch 13/50\n",
            "50000/50000 [==============================] - 2s 32us/step - loss: 1.2304 - acc: 0.5730 - val_loss: 1.4818 - val_acc: 0.4796\n",
            "Epoch 14/50\n",
            "50000/50000 [==============================] - 2s 32us/step - loss: 1.2061 - acc: 0.5806 - val_loss: 1.4775 - val_acc: 0.4773\n",
            "Epoch 15/50\n",
            "50000/50000 [==============================] - 2s 32us/step - loss: 1.1803 - acc: 0.5899 - val_loss: 1.4826 - val_acc: 0.4788\n",
            "Epoch 16/50\n",
            "50000/50000 [==============================] - 2s 31us/step - loss: 1.1573 - acc: 0.6004 - val_loss: 1.4618 - val_acc: 0.4832\n",
            "Epoch 17/50\n",
            "50000/50000 [==============================] - 2s 32us/step - loss: 1.1332 - acc: 0.6086 - val_loss: 1.4696 - val_acc: 0.4882\n",
            "Epoch 18/50\n",
            "50000/50000 [==============================] - 2s 32us/step - loss: 1.1106 - acc: 0.6169 - val_loss: 1.4806 - val_acc: 0.4858\n",
            "Epoch 19/50\n",
            "50000/50000 [==============================] - 2s 32us/step - loss: 1.0895 - acc: 0.6244 - val_loss: 1.4703 - val_acc: 0.4867\n",
            "Epoch 20/50\n",
            "50000/50000 [==============================] - 2s 33us/step - loss: 1.0660 - acc: 0.6329 - val_loss: 1.4590 - val_acc: 0.4879\n",
            "Epoch 21/50\n",
            "50000/50000 [==============================] - 2s 33us/step - loss: 1.0436 - acc: 0.6411 - val_loss: 1.4673 - val_acc: 0.4851\n",
            "Epoch 22/50\n",
            "50000/50000 [==============================] - 2s 32us/step - loss: 1.0218 - acc: 0.6508 - val_loss: 1.4642 - val_acc: 0.4921\n",
            "Epoch 23/50\n",
            "50000/50000 [==============================] - 2s 32us/step - loss: 1.0016 - acc: 0.6580 - val_loss: 1.4620 - val_acc: 0.4939\n",
            "Epoch 24/50\n",
            "50000/50000 [==============================] - 2s 32us/step - loss: 0.9805 - acc: 0.6659 - val_loss: 1.4733 - val_acc: 0.4919\n",
            "Epoch 25/50\n",
            "50000/50000 [==============================] - 2s 32us/step - loss: 0.9601 - acc: 0.6752 - val_loss: 1.4846 - val_acc: 0.4885\n",
            "Epoch 26/50\n",
            "50000/50000 [==============================] - 2s 32us/step - loss: 0.9393 - acc: 0.6817 - val_loss: 1.4881 - val_acc: 0.4895\n",
            "Epoch 27/50\n",
            "50000/50000 [==============================] - 2s 32us/step - loss: 0.9194 - acc: 0.6913 - val_loss: 1.4887 - val_acc: 0.4911\n",
            "Epoch 28/50\n",
            "50000/50000 [==============================] - 2s 32us/step - loss: 0.8972 - acc: 0.6982 - val_loss: 1.4911 - val_acc: 0.4920\n",
            "Epoch 29/50\n",
            "50000/50000 [==============================] - 2s 32us/step - loss: 0.8764 - acc: 0.7077 - val_loss: 1.4839 - val_acc: 0.4956\n",
            "Epoch 30/50\n",
            "50000/50000 [==============================] - 2s 32us/step - loss: 0.8551 - acc: 0.7167 - val_loss: 1.4907 - val_acc: 0.4956\n",
            "Epoch 31/50\n",
            "50000/50000 [==============================] - 2s 32us/step - loss: 0.8364 - acc: 0.7220 - val_loss: 1.4939 - val_acc: 0.4960\n",
            "Epoch 32/50\n",
            "50000/50000 [==============================] - 2s 32us/step - loss: 0.8155 - acc: 0.7315 - val_loss: 1.5045 - val_acc: 0.4880\n",
            "Epoch 33/50\n",
            "50000/50000 [==============================] - 2s 32us/step - loss: 0.7972 - acc: 0.7375 - val_loss: 1.5196 - val_acc: 0.4984\n",
            "Epoch 34/50\n",
            "50000/50000 [==============================] - 2s 32us/step - loss: 0.7790 - acc: 0.7457 - val_loss: 1.5181 - val_acc: 0.4940\n",
            "Epoch 35/50\n",
            "50000/50000 [==============================] - 2s 32us/step - loss: 0.7577 - acc: 0.7544 - val_loss: 1.5226 - val_acc: 0.4930\n",
            "Epoch 36/50\n",
            "50000/50000 [==============================] - 2s 32us/step - loss: 0.7392 - acc: 0.7620 - val_loss: 1.5448 - val_acc: 0.4889\n",
            "Epoch 37/50\n",
            "50000/50000 [==============================] - 2s 33us/step - loss: 0.7204 - acc: 0.7696 - val_loss: 1.5400 - val_acc: 0.4935\n",
            "Epoch 38/50\n",
            "50000/50000 [==============================] - 2s 32us/step - loss: 0.6978 - acc: 0.7804 - val_loss: 1.5406 - val_acc: 0.4942\n",
            "Epoch 39/50\n",
            "50000/50000 [==============================] - 2s 32us/step - loss: 0.6801 - acc: 0.7864 - val_loss: 1.5693 - val_acc: 0.4832\n",
            "Epoch 40/50\n",
            "50000/50000 [==============================] - 2s 32us/step - loss: 0.6630 - acc: 0.7931 - val_loss: 1.5643 - val_acc: 0.4952\n",
            "Epoch 41/50\n",
            "50000/50000 [==============================] - 2s 32us/step - loss: 0.6453 - acc: 0.8002 - val_loss: 1.5745 - val_acc: 0.4969\n",
            "Epoch 42/50\n",
            "50000/50000 [==============================] - 2s 32us/step - loss: 0.6280 - acc: 0.8060 - val_loss: 1.5871 - val_acc: 0.4937\n",
            "Epoch 43/50\n",
            "50000/50000 [==============================] - 2s 32us/step - loss: 0.6075 - acc: 0.8150 - val_loss: 1.6014 - val_acc: 0.4928\n",
            "Epoch 44/50\n",
            "50000/50000 [==============================] - 2s 32us/step - loss: 0.5894 - acc: 0.8219 - val_loss: 1.6205 - val_acc: 0.4882\n",
            "Epoch 45/50\n",
            "50000/50000 [==============================] - 2s 32us/step - loss: 0.5735 - acc: 0.8297 - val_loss: 1.6250 - val_acc: 0.4940\n",
            "Epoch 46/50\n",
            "50000/50000 [==============================] - 2s 31us/step - loss: 0.5562 - acc: 0.8342 - val_loss: 1.6443 - val_acc: 0.4916\n",
            "Epoch 47/50\n",
            "50000/50000 [==============================] - 2s 32us/step - loss: 0.5390 - acc: 0.8419 - val_loss: 1.6473 - val_acc: 0.4952\n",
            "Epoch 48/50\n",
            "50000/50000 [==============================] - 2s 31us/step - loss: 0.5205 - acc: 0.8497 - val_loss: 1.6760 - val_acc: 0.4877\n",
            "Epoch 49/50\n",
            "50000/50000 [==============================] - 2s 32us/step - loss: 0.5050 - acc: 0.8552 - val_loss: 1.6826 - val_acc: 0.4931\n",
            "Epoch 50/50\n",
            "50000/50000 [==============================] - 2s 32us/step - loss: 0.4876 - acc: 0.8623 - val_loss: 1.7160 - val_acc: 0.4895\n"
          ],
          "name": "stdout"
        },
        {
          "output_type": "error",
          "ename": "ValueError",
          "evalue": "ignored",
          "traceback": [
            "\u001b[0;31m---------------------------------------------------------------------------\u001b[0m",
            "\u001b[0;31mValueError\u001b[0m                                Traceback (most recent call last)",
            "\u001b[0;32m<ipython-input-10-2af4d98d0ef1>\u001b[0m in \u001b[0;36m<module>\u001b[0;34m()\u001b[0m\n\u001b[1;32m     34\u001b[0m \u001b[0;34m\u001b[0m\u001b[0m\n\u001b[1;32m     35\u001b[0m \u001b[0;31m# Load back\u001b[0m\u001b[0;34m\u001b[0m\u001b[0;34m\u001b[0m\u001b[0;34m\u001b[0m\u001b[0m\n\u001b[0;32m---> 36\u001b[0;31m \u001b[0mmodel\u001b[0m \u001b[0;34m=\u001b[0m \u001b[0mkeras\u001b[0m\u001b[0;34m.\u001b[0m\u001b[0mmodels\u001b[0m\u001b[0;34m.\u001b[0m\u001b[0mload_model\u001b[0m\u001b[0;34m(\u001b[0m\u001b[0;34m\"./tmp.h5\"\u001b[0m\u001b[0;34m)\u001b[0m\u001b[0;34m\u001b[0m\u001b[0;34m\u001b[0m\u001b[0m\n\u001b[0m\u001b[1;32m     37\u001b[0m \u001b[0mloss_loadback\u001b[0m\u001b[0;34m,\u001b[0m \u001b[0macc_loadback\u001b[0m \u001b[0;34m=\u001b[0m \u001b[0mmodel\u001b[0m\u001b[0;34m.\u001b[0m\u001b[0mevaluate\u001b[0m\u001b[0;34m(\u001b[0m\u001b[0mx_test\u001b[0m\u001b[0;34m,\u001b[0m \u001b[0my_test\u001b[0m\u001b[0;34m)\u001b[0m\u001b[0;34m\u001b[0m\u001b[0;34m\u001b[0m\u001b[0m\n",
            "\u001b[0;32m/usr/local/lib/python3.6/dist-packages/keras/engine/saving.py\u001b[0m in \u001b[0;36mload_wrapper\u001b[0;34m(*args, **kwargs)\u001b[0m\n\u001b[1;32m    456\u001b[0m                 \u001b[0mos\u001b[0m\u001b[0;34m.\u001b[0m\u001b[0mremove\u001b[0m\u001b[0;34m(\u001b[0m\u001b[0mtmp_filepath\u001b[0m\u001b[0;34m)\u001b[0m\u001b[0;34m\u001b[0m\u001b[0;34m\u001b[0m\u001b[0m\n\u001b[1;32m    457\u001b[0m             \u001b[0;32mreturn\u001b[0m \u001b[0mres\u001b[0m\u001b[0;34m\u001b[0m\u001b[0;34m\u001b[0m\u001b[0m\n\u001b[0;32m--> 458\u001b[0;31m         \u001b[0;32mreturn\u001b[0m \u001b[0mload_function\u001b[0m\u001b[0;34m(\u001b[0m\u001b[0;34m*\u001b[0m\u001b[0margs\u001b[0m\u001b[0;34m,\u001b[0m \u001b[0;34m**\u001b[0m\u001b[0mkwargs\u001b[0m\u001b[0;34m)\u001b[0m\u001b[0;34m\u001b[0m\u001b[0;34m\u001b[0m\u001b[0m\n\u001b[0m\u001b[1;32m    459\u001b[0m \u001b[0;34m\u001b[0m\u001b[0m\n\u001b[1;32m    460\u001b[0m     \u001b[0;32mreturn\u001b[0m \u001b[0mload_wrapper\u001b[0m\u001b[0;34m\u001b[0m\u001b[0;34m\u001b[0m\u001b[0m\n",
            "\u001b[0;32m/usr/local/lib/python3.6/dist-packages/keras/engine/saving.py\u001b[0m in \u001b[0;36mload_model\u001b[0;34m(filepath, custom_objects, compile)\u001b[0m\n\u001b[1;32m    548\u001b[0m     \u001b[0;32mif\u001b[0m \u001b[0mH5Dict\u001b[0m\u001b[0;34m.\u001b[0m\u001b[0mis_supported_type\u001b[0m\u001b[0;34m(\u001b[0m\u001b[0mfilepath\u001b[0m\u001b[0;34m)\u001b[0m\u001b[0;34m:\u001b[0m\u001b[0;34m\u001b[0m\u001b[0;34m\u001b[0m\u001b[0m\n\u001b[1;32m    549\u001b[0m         \u001b[0;32mwith\u001b[0m \u001b[0mH5Dict\u001b[0m\u001b[0;34m(\u001b[0m\u001b[0mfilepath\u001b[0m\u001b[0;34m,\u001b[0m \u001b[0mmode\u001b[0m\u001b[0;34m=\u001b[0m\u001b[0;34m'r'\u001b[0m\u001b[0;34m)\u001b[0m \u001b[0;32mas\u001b[0m \u001b[0mh5dict\u001b[0m\u001b[0;34m:\u001b[0m\u001b[0;34m\u001b[0m\u001b[0;34m\u001b[0m\u001b[0m\n\u001b[0;32m--> 550\u001b[0;31m             \u001b[0mmodel\u001b[0m \u001b[0;34m=\u001b[0m \u001b[0m_deserialize_model\u001b[0m\u001b[0;34m(\u001b[0m\u001b[0mh5dict\u001b[0m\u001b[0;34m,\u001b[0m \u001b[0mcustom_objects\u001b[0m\u001b[0;34m,\u001b[0m \u001b[0mcompile\u001b[0m\u001b[0;34m)\u001b[0m\u001b[0;34m\u001b[0m\u001b[0;34m\u001b[0m\u001b[0m\n\u001b[0m\u001b[1;32m    551\u001b[0m     \u001b[0;32melif\u001b[0m \u001b[0mhasattr\u001b[0m\u001b[0;34m(\u001b[0m\u001b[0mfilepath\u001b[0m\u001b[0;34m,\u001b[0m \u001b[0;34m'write'\u001b[0m\u001b[0;34m)\u001b[0m \u001b[0;32mand\u001b[0m \u001b[0mcallable\u001b[0m\u001b[0;34m(\u001b[0m\u001b[0mfilepath\u001b[0m\u001b[0;34m.\u001b[0m\u001b[0mwrite\u001b[0m\u001b[0;34m)\u001b[0m\u001b[0;34m:\u001b[0m\u001b[0;34m\u001b[0m\u001b[0;34m\u001b[0m\u001b[0m\n\u001b[1;32m    552\u001b[0m         \u001b[0;32mdef\u001b[0m \u001b[0mload_function\u001b[0m\u001b[0;34m(\u001b[0m\u001b[0mh5file\u001b[0m\u001b[0;34m)\u001b[0m\u001b[0;34m:\u001b[0m\u001b[0;34m\u001b[0m\u001b[0;34m\u001b[0m\u001b[0m\n",
            "\u001b[0;32m/usr/local/lib/python3.6/dist-packages/keras/engine/saving.py\u001b[0m in \u001b[0;36m_deserialize_model\u001b[0;34m(h5dict, custom_objects, compile)\u001b[0m\n\u001b[1;32m    237\u001b[0m         \u001b[0;32mreturn\u001b[0m \u001b[0mobj\u001b[0m\u001b[0;34m\u001b[0m\u001b[0;34m\u001b[0m\u001b[0m\n\u001b[1;32m    238\u001b[0m \u001b[0;34m\u001b[0m\u001b[0m\n\u001b[0;32m--> 239\u001b[0;31m     \u001b[0mmodel_config\u001b[0m \u001b[0;34m=\u001b[0m \u001b[0mh5dict\u001b[0m\u001b[0;34m[\u001b[0m\u001b[0;34m'model_config'\u001b[0m\u001b[0;34m]\u001b[0m\u001b[0;34m\u001b[0m\u001b[0;34m\u001b[0m\u001b[0m\n\u001b[0m\u001b[1;32m    240\u001b[0m     \u001b[0;32mif\u001b[0m \u001b[0mmodel_config\u001b[0m \u001b[0;32mis\u001b[0m \u001b[0;32mNone\u001b[0m\u001b[0;34m:\u001b[0m\u001b[0;34m\u001b[0m\u001b[0;34m\u001b[0m\u001b[0m\n\u001b[1;32m    241\u001b[0m         \u001b[0;32mraise\u001b[0m \u001b[0mValueError\u001b[0m\u001b[0;34m(\u001b[0m\u001b[0;34m'No model found in config.'\u001b[0m\u001b[0;34m)\u001b[0m\u001b[0;34m\u001b[0m\u001b[0;34m\u001b[0m\u001b[0m\n",
            "\u001b[0;32m/usr/local/lib/python3.6/dist-packages/keras/utils/io_utils.py\u001b[0m in \u001b[0;36m__getitem__\u001b[0;34m(self, attr)\u001b[0m\n\u001b[1;32m    316\u001b[0m             \u001b[0;32melse\u001b[0m\u001b[0;34m:\u001b[0m\u001b[0;34m\u001b[0m\u001b[0;34m\u001b[0m\u001b[0m\n\u001b[1;32m    317\u001b[0m                 \u001b[0;32mif\u001b[0m \u001b[0mself\u001b[0m\u001b[0;34m.\u001b[0m\u001b[0mread_only\u001b[0m\u001b[0;34m:\u001b[0m\u001b[0;34m\u001b[0m\u001b[0;34m\u001b[0m\u001b[0m\n\u001b[0;32m--> 318\u001b[0;31m                     \u001b[0;32mraise\u001b[0m \u001b[0mValueError\u001b[0m\u001b[0;34m(\u001b[0m\u001b[0;34m'Cannot create group in read-only mode.'\u001b[0m\u001b[0;34m)\u001b[0m\u001b[0;34m\u001b[0m\u001b[0;34m\u001b[0m\u001b[0m\n\u001b[0m\u001b[1;32m    319\u001b[0m                 \u001b[0mval\u001b[0m \u001b[0;34m=\u001b[0m \u001b[0mH5Dict\u001b[0m\u001b[0;34m(\u001b[0m\u001b[0mself\u001b[0m\u001b[0;34m.\u001b[0m\u001b[0mdata\u001b[0m\u001b[0;34m.\u001b[0m\u001b[0mcreate_group\u001b[0m\u001b[0;34m(\u001b[0m\u001b[0mattr\u001b[0m\u001b[0;34m)\u001b[0m\u001b[0;34m)\u001b[0m\u001b[0;34m\u001b[0m\u001b[0;34m\u001b[0m\u001b[0m\n\u001b[1;32m    320\u001b[0m         \u001b[0;32mreturn\u001b[0m \u001b[0mval\u001b[0m\u001b[0;34m\u001b[0m\u001b[0;34m\u001b[0m\u001b[0m\n",
            "\u001b[0;31mValueError\u001b[0m: Cannot create group in read-only mode."
          ]
        }
      ]
    },
    {
      "cell_type": "code",
      "metadata": {
        "scrolled": true,
        "id": "hMKhcxHPjock",
        "colab_type": "code",
        "colab": {
          "base_uri": "https://localhost:8080/",
          "height": 545
        },
        "outputId": "0b6580b3-99dc-4aa8-e030-db60f3c0e92c"
      },
      "source": [
        "import matplotlib.pyplot as plt\n",
        "%matplotlib inline\n",
        "\n",
        "plt.plot(range(len(train_loss)), train_loss, label=\"train loss\")\n",
        "plt.plot(range(len(valid_loss)), valid_loss, label=\"valid loss\")\n",
        "plt.hlines(y=loss_loadback, xmin=0, xmax=len(train_loss), colors='r', linestyles='--')\n",
        "plt.legend()\n",
        "plt.title(\"Loss\")\n",
        "plt.show()\n",
        "\n",
        "plt.plot(range(len(train_acc)), train_acc, label=\"train accuracy\")\n",
        "plt.plot(range(len(valid_acc)), valid_acc, label=\"valid accuracy\")\n",
        "plt.hlines(y=acc_loadback, xmin=0, xmax=len(train_loss), colors='r', linestyles='--')\n",
        "plt.legend()\n",
        "plt.title(\"Accuracy\")\n",
        "plt.show()"
      ],
      "execution_count": 8,
      "outputs": [
        {
          "output_type": "display_data",
          "data": {
            "image/png": "[encoded data removed]",
            "text/plain": [
              "<Figure size 432x288 with 1 Axes>"
            ]
          },
          "metadata": {
            "tags": []
          }
        },
        {
          "output_type": "display_data",
          "data": {
            "image/png": "[encoded data removed]",
            "text/plain": [
              "<Figure size 432x288 with 1 Axes>"
            ]
          },
          "metadata": {
            "tags": []
          }
        }
      ]
    },
    {
      "cell_type": "code",
      "metadata": {
        "id": "uKpJJPIG-9JJ",
        "colab_type": "code",
        "colab": {
          "base_uri": "https://localhost:8080/",
          "height": 35
        },
        "outputId": "41d0ca2c-8361-452e-ae9a-88054fc3ce7d"
      },
      "source": [
        "from sklearn.metrics import accuracy_score\n",
        "new_model = build_mlp(input_shape=x_train.shape[1:])\n",
        "new_model.load_weights(\"./tmp.h5\")\n",
        "new_model_pred = new_model.predict(x_test)\n",
        "new_model_loadback_acc = accuracy_score(y_true=y_test.argmax(axis=-1), y_pred=new_model_pred.argmax(axis=-1))\n",
        "\n",
        "print(\"Accuracy of best weights: %.3f\" % new_model_loadback_acc)"
      ],
      "execution_count": 15,
      "outputs": [
        {
          "output_type": "stream",
          "text": [
            "Accuracy of best weights: 0.489\n"
          ],
          "name": "stdout"
        }
      ]
    },
    {
      "cell_type": "code",
      "metadata": {
        "id": "jssXIYxH4ja2",
        "colab_type": "code",
        "colab": {
          "base_uri": "https://localhost:8080/",
          "height": 1000
        },
        "outputId": "b4c88210-832b-4677-ad3d-54f7126ad449"
      },
      "source": [
        "from keras.callbacks import ModelCheckpoint\n",
        "\n",
        "model_ckpt = ModelCheckpoint(filepath=\"./tmp.h5\",\n",
        "                             monitor=\"val_loss\",\n",
        "                             save_weights_only=True)\n",
        "\n",
        "\n",
        "results = {}\n",
        "\"\"\"Code Here\n",
        "撰寫你的訓練流程並將結果用 dictionary 紀錄\n",
        "\"\"\"\n",
        "new_model = build_mlp(input_shape=x_train.shape[1:])\n",
        "new_model.load_weights(\"./tmp.h5\")\n",
        "new_model.summary()\n",
        "optimizer = keras.optimizers.SGD(lr=LEARNING_RATE, nesterov=True, momentum=MOMENTUM)\n",
        "new_model.compile(loss=\"categorical_crossentropy\", metrics=[\"accuracy\"], optimizer=optimizer)\n",
        "\n",
        "new_model.fit(x_train, y_train, \n",
        "          epochs=EPOCHS, \n",
        "          batch_size=BATCH_SIZE, \n",
        "          validation_data=(x_test, y_test), \n",
        "          shuffle=True,\n",
        "          callbacks=[model_ckpt]\n",
        "         )\n",
        "\n",
        "\n",
        "# Collect results\n",
        "train_loss = new_model.history.history[\"loss\"]\n",
        "valid_loss = new_model.history.history[\"val_loss\"]\n",
        "train_acc = new_model.history.history[\"acc\"]\n",
        "valid_acc = new_model.history.history[\"val_acc\"]\n",
        "\n",
        "# Load back\n",
        "# new_model = keras.models.load_model(\"./tmp.h5\")\n",
        "# loss_loadback, acc_loadback = new_model.evaluate(x_test, y_test)"
      ],
      "execution_count": 16,
      "outputs": [
        {
          "output_type": "stream",
          "text": [
            "Model: \"model_7\"\n",
            "_________________________________________________________________\n",
            "Layer (type)                 Output Shape              Param #   \n",
            "=================================================================\n",
            "input_7 (InputLayer)         (None, 3072)              0         \n",
            "_________________________________________________________________\n",
            "hidden_layer1 (Dense)        (None, 518)               1591814   \n",
            "_________________________________________________________________\n",
            "batch_normalization_19 (Batc (None, 518)               2072      \n",
            "_________________________________________________________________\n",
            "hidden_layer2 (Dense)        (None, 256)               132864    \n",
            "_________________________________________________________________\n",
            "batch_normalization_20 (Batc (None, 256)               1024      \n",
            "_________________________________________________________________\n",
            "hidden_layer3 (Dense)        (None, 128)               32896     \n",
            "_________________________________________________________________\n",
            "batch_normalization_21 (Batc (None, 128)               512       \n",
            "_________________________________________________________________\n",
            "output_layer (Dense)         (None, 10)                1290      \n",
            "=================================================================\n",
            "Total params: 1,762,472\n",
            "Trainable params: 1,760,668\n",
            "Non-trainable params: 1,804\n",
            "_________________________________________________________________\n",
            "Train on 50000 samples, validate on 10000 samples\n",
            "Epoch 1/50\n",
            "50000/50000 [==============================] - 3s 57us/step - loss: 0.4719 - acc: 0.8704 - val_loss: 1.7075 - val_acc: 0.4896\n",
            "Epoch 2/50\n",
            "50000/50000 [==============================] - 2s 32us/step - loss: 0.4623 - acc: 0.8726 - val_loss: 1.7188 - val_acc: 0.4937\n",
            "Epoch 3/50\n",
            "50000/50000 [==============================] - 2s 32us/step - loss: 0.4451 - acc: 0.8790 - val_loss: 1.7502 - val_acc: 0.4846\n",
            "Epoch 4/50\n",
            "50000/50000 [==============================] - 2s 32us/step - loss: 0.4316 - acc: 0.8832 - val_loss: 1.7559 - val_acc: 0.4825\n",
            "Epoch 5/50\n",
            "50000/50000 [==============================] - 2s 33us/step - loss: 0.4153 - acc: 0.8919 - val_loss: 1.7777 - val_acc: 0.4826\n",
            "Epoch 6/50\n",
            "50000/50000 [==============================] - 2s 32us/step - loss: 0.4038 - acc: 0.8956 - val_loss: 1.7871 - val_acc: 0.4835\n",
            "Epoch 7/50\n",
            "50000/50000 [==============================] - 2s 32us/step - loss: 0.3880 - acc: 0.9019 - val_loss: 1.7878 - val_acc: 0.4878\n",
            "Epoch 8/50\n",
            "50000/50000 [==============================] - 2s 33us/step - loss: 0.3736 - acc: 0.9076 - val_loss: 1.8256 - val_acc: 0.4815\n",
            "Epoch 9/50\n",
            "50000/50000 [==============================] - 2s 33us/step - loss: 0.3592 - acc: 0.9129 - val_loss: 1.8499 - val_acc: 0.4866\n",
            "Epoch 10/50\n",
            "50000/50000 [==============================] - 2s 32us/step - loss: 0.3474 - acc: 0.9170 - val_loss: 1.8543 - val_acc: 0.4830\n",
            "Epoch 11/50\n",
            "50000/50000 [==============================] - 2s 32us/step - loss: 0.3336 - acc: 0.9217 - val_loss: 1.8422 - val_acc: 0.4864\n",
            "Epoch 12/50\n",
            "50000/50000 [==============================] - 2s 32us/step - loss: 0.3207 - acc: 0.9262 - val_loss: 1.8856 - val_acc: 0.4875\n",
            "Epoch 13/50\n",
            "50000/50000 [==============================] - 2s 32us/step - loss: 0.3087 - acc: 0.9319 - val_loss: 1.8844 - val_acc: 0.4878\n",
            "Epoch 14/50\n",
            "50000/50000 [==============================] - 2s 33us/step - loss: 0.2991 - acc: 0.9351 - val_loss: 1.8927 - val_acc: 0.4926\n",
            "Epoch 15/50\n",
            "50000/50000 [==============================] - 2s 32us/step - loss: 0.2853 - acc: 0.9399 - val_loss: 1.9227 - val_acc: 0.4813\n",
            "Epoch 16/50\n",
            "50000/50000 [==============================] - 2s 32us/step - loss: 0.2737 - acc: 0.9438 - val_loss: 1.9647 - val_acc: 0.4856\n",
            "Epoch 17/50\n",
            "50000/50000 [==============================] - 2s 33us/step - loss: 0.2627 - acc: 0.9481 - val_loss: 1.9566 - val_acc: 0.4832\n",
            "Epoch 18/50\n",
            "50000/50000 [==============================] - 2s 32us/step - loss: 0.2513 - acc: 0.9523 - val_loss: 1.9717 - val_acc: 0.4860\n",
            "Epoch 19/50\n",
            "50000/50000 [==============================] - 2s 33us/step - loss: 0.2414 - acc: 0.9552 - val_loss: 2.0059 - val_acc: 0.4845\n",
            "Epoch 20/50\n",
            "50000/50000 [==============================] - 2s 33us/step - loss: 0.2329 - acc: 0.9585 - val_loss: 2.0228 - val_acc: 0.4772\n",
            "Epoch 21/50\n",
            "50000/50000 [==============================] - 2s 33us/step - loss: 0.2219 - acc: 0.9612 - val_loss: 2.0368 - val_acc: 0.4826\n",
            "Epoch 22/50\n",
            "50000/50000 [==============================] - 2s 33us/step - loss: 0.2122 - acc: 0.9651 - val_loss: 2.0388 - val_acc: 0.4806\n",
            "Epoch 23/50\n",
            "50000/50000 [==============================] - 2s 32us/step - loss: 0.2057 - acc: 0.9665 - val_loss: 2.0698 - val_acc: 0.4797\n",
            "Epoch 24/50\n",
            "50000/50000 [==============================] - 2s 32us/step - loss: 0.1972 - acc: 0.9685 - val_loss: 2.0713 - val_acc: 0.4805\n",
            "Epoch 25/50\n",
            "50000/50000 [==============================] - 2s 32us/step - loss: 0.1875 - acc: 0.9723 - val_loss: 2.1012 - val_acc: 0.4831\n",
            "Epoch 26/50\n",
            "50000/50000 [==============================] - 2s 32us/step - loss: 0.1819 - acc: 0.9728 - val_loss: 2.1389 - val_acc: 0.4818\n",
            "Epoch 27/50\n",
            "50000/50000 [==============================] - 2s 32us/step - loss: 0.1716 - acc: 0.9762 - val_loss: 2.1490 - val_acc: 0.4837\n",
            "Epoch 28/50\n",
            "50000/50000 [==============================] - 2s 32us/step - loss: 0.1651 - acc: 0.9786 - val_loss: 2.1256 - val_acc: 0.4837\n",
            "Epoch 29/50\n",
            "50000/50000 [==============================] - 2s 32us/step - loss: 0.1593 - acc: 0.9795 - val_loss: 2.1689 - val_acc: 0.4821\n",
            "Epoch 30/50\n",
            "50000/50000 [==============================] - 2s 31us/step - loss: 0.1509 - acc: 0.9818 - val_loss: 2.1866 - val_acc: 0.4821\n",
            "Epoch 31/50\n",
            "50000/50000 [==============================] - 2s 31us/step - loss: 0.1459 - acc: 0.9827 - val_loss: 2.1924 - val_acc: 0.4832\n",
            "Epoch 32/50\n",
            "50000/50000 [==============================] - 2s 32us/step - loss: 0.1391 - acc: 0.9845 - val_loss: 2.2451 - val_acc: 0.4790\n",
            "Epoch 33/50\n",
            "50000/50000 [==============================] - 2s 32us/step - loss: 0.1333 - acc: 0.9853 - val_loss: 2.2441 - val_acc: 0.4851\n",
            "Epoch 34/50\n",
            "50000/50000 [==============================] - 2s 32us/step - loss: 0.1274 - acc: 0.9867 - val_loss: 2.2269 - val_acc: 0.4808\n",
            "Epoch 35/50\n",
            "50000/50000 [==============================] - 2s 32us/step - loss: 0.1220 - acc: 0.9876 - val_loss: 2.2497 - val_acc: 0.4766\n",
            "Epoch 36/50\n",
            "50000/50000 [==============================] - 2s 32us/step - loss: 0.1162 - acc: 0.9893 - val_loss: 2.2660 - val_acc: 0.4765\n",
            "Epoch 37/50\n",
            "50000/50000 [==============================] - 2s 32us/step - loss: 0.1121 - acc: 0.9903 - val_loss: 2.2888 - val_acc: 0.4847\n",
            "Epoch 38/50\n",
            "50000/50000 [==============================] - 2s 32us/step - loss: 0.1075 - acc: 0.9906 - val_loss: 2.3339 - val_acc: 0.4800\n",
            "Epoch 39/50\n",
            "50000/50000 [==============================] - 2s 32us/step - loss: 0.1030 - acc: 0.9916 - val_loss: 2.3291 - val_acc: 0.4780\n",
            "Epoch 40/50\n",
            "50000/50000 [==============================] - 2s 32us/step - loss: 0.0987 - acc: 0.9925 - val_loss: 2.3558 - val_acc: 0.4796\n",
            "Epoch 41/50\n",
            "50000/50000 [==============================] - 2s 32us/step - loss: 0.0946 - acc: 0.9930 - val_loss: 2.3670 - val_acc: 0.4775\n",
            "Epoch 42/50\n",
            "50000/50000 [==============================] - 2s 32us/step - loss: 0.0912 - acc: 0.9934 - val_loss: 2.3914 - val_acc: 0.4850\n",
            "Epoch 43/50\n",
            "50000/50000 [==============================] - 2s 32us/step - loss: 0.0874 - acc: 0.9944 - val_loss: 2.3859 - val_acc: 0.4777\n",
            "Epoch 44/50\n",
            "50000/50000 [==============================] - 2s 32us/step - loss: 0.0840 - acc: 0.9947 - val_loss: 2.4054 - val_acc: 0.4815\n",
            "Epoch 45/50\n",
            "50000/50000 [==============================] - 2s 32us/step - loss: 0.0810 - acc: 0.9954 - val_loss: 2.4368 - val_acc: 0.4740\n",
            "Epoch 46/50\n",
            "50000/50000 [==============================] - 2s 32us/step - loss: 0.0780 - acc: 0.9959 - val_loss: 2.4317 - val_acc: 0.4754\n",
            "Epoch 47/50\n",
            "50000/50000 [==============================] - 2s 32us/step - loss: 0.0752 - acc: 0.9962 - val_loss: 2.4337 - val_acc: 0.4741\n",
            "Epoch 48/50\n",
            "50000/50000 [==============================] - 2s 32us/step - loss: 0.0726 - acc: 0.9965 - val_loss: 2.4521 - val_acc: 0.4752\n",
            "Epoch 49/50\n",
            "50000/50000 [==============================] - 2s 32us/step - loss: 0.0692 - acc: 0.9968 - val_loss: 2.4479 - val_acc: 0.4810\n",
            "Epoch 50/50\n",
            "50000/50000 [==============================] - 2s 32us/step - loss: 0.0667 - acc: 0.9971 - val_loss: 2.4797 - val_acc: 0.4812\n"
          ],
          "name": "stdout"
        },
        {
          "output_type": "error",
          "ename": "ValueError",
          "evalue": "ignored",
          "traceback": [
            "\u001b[0;31m---------------------------------------------------------------------------\u001b[0m",
            "\u001b[0;31mValueError\u001b[0m                                Traceback (most recent call last)",
            "\u001b[0;32m<ipython-input-16-a35de624d9aa>\u001b[0m in \u001b[0;36m<module>\u001b[0;34m()\u001b[0m\n\u001b[1;32m     32\u001b[0m \u001b[0;34m\u001b[0m\u001b[0m\n\u001b[1;32m     33\u001b[0m \u001b[0;31m# Load back\u001b[0m\u001b[0;34m\u001b[0m\u001b[0;34m\u001b[0m\u001b[0;34m\u001b[0m\u001b[0m\n\u001b[0;32m---> 34\u001b[0;31m \u001b[0mnew_model\u001b[0m \u001b[0;34m=\u001b[0m \u001b[0mkeras\u001b[0m\u001b[0;34m.\u001b[0m\u001b[0mmodels\u001b[0m\u001b[0;34m.\u001b[0m\u001b[0mload_model\u001b[0m\u001b[0;34m(\u001b[0m\u001b[0;34m\"./tmp.h5\"\u001b[0m\u001b[0;34m)\u001b[0m\u001b[0;34m\u001b[0m\u001b[0;34m\u001b[0m\u001b[0m\n\u001b[0m\u001b[1;32m     35\u001b[0m \u001b[0mloss_loadback\u001b[0m\u001b[0;34m,\u001b[0m \u001b[0macc_loadback\u001b[0m \u001b[0;34m=\u001b[0m \u001b[0mnew_model\u001b[0m\u001b[0;34m.\u001b[0m\u001b[0mevaluate\u001b[0m\u001b[0;34m(\u001b[0m\u001b[0mx_test\u001b[0m\u001b[0;34m,\u001b[0m \u001b[0my_test\u001b[0m\u001b[0;34m)\u001b[0m\u001b[0;34m\u001b[0m\u001b[0;34m\u001b[0m\u001b[0m\n",
            "\u001b[0;32m/usr/local/lib/python3.6/dist-packages/keras/engine/saving.py\u001b[0m in \u001b[0;36mload_wrapper\u001b[0;34m(*args, **kwargs)\u001b[0m\n\u001b[1;32m    456\u001b[0m                 \u001b[0mos\u001b[0m\u001b[0;34m.\u001b[0m\u001b[0mremove\u001b[0m\u001b[0;34m(\u001b[0m\u001b[0mtmp_filepath\u001b[0m\u001b[0;34m)\u001b[0m\u001b[0;34m\u001b[0m\u001b[0;34m\u001b[0m\u001b[0m\n\u001b[1;32m    457\u001b[0m             \u001b[0;32mreturn\u001b[0m \u001b[0mres\u001b[0m\u001b[0;34m\u001b[0m\u001b[0;34m\u001b[0m\u001b[0m\n\u001b[0;32m--> 458\u001b[0;31m         \u001b[0;32mreturn\u001b[0m \u001b[0mload_function\u001b[0m\u001b[0;34m(\u001b[0m\u001b[0;34m*\u001b[0m\u001b[0margs\u001b[0m\u001b[0;34m,\u001b[0m \u001b[0;34m**\u001b[0m\u001b[0mkwargs\u001b[0m\u001b[0;34m)\u001b[0m\u001b[0;34m\u001b[0m\u001b[0;34m\u001b[0m\u001b[0m\n\u001b[0m\u001b[1;32m    459\u001b[0m \u001b[0;34m\u001b[0m\u001b[0m\n\u001b[1;32m    460\u001b[0m     \u001b[0;32mreturn\u001b[0m \u001b[0mload_wrapper\u001b[0m\u001b[0;34m\u001b[0m\u001b[0;34m\u001b[0m\u001b[0m\n",
            "\u001b[0;32m/usr/local/lib/python3.6/dist-packages/keras/engine/saving.py\u001b[0m in \u001b[0;36mload_model\u001b[0;34m(filepath, custom_objects, compile)\u001b[0m\n\u001b[1;32m    548\u001b[0m     \u001b[0;32mif\u001b[0m \u001b[0mH5Dict\u001b[0m\u001b[0;34m.\u001b[0m\u001b[0mis_supported_type\u001b[0m\u001b[0;34m(\u001b[0m\u001b[0mfilepath\u001b[0m\u001b[0;34m)\u001b[0m\u001b[0;34m:\u001b[0m\u001b[0;34m\u001b[0m\u001b[0;34m\u001b[0m\u001b[0m\n\u001b[1;32m    549\u001b[0m         \u001b[0;32mwith\u001b[0m \u001b[0mH5Dict\u001b[0m\u001b[0;34m(\u001b[0m\u001b[0mfilepath\u001b[0m\u001b[0;34m,\u001b[0m \u001b[0mmode\u001b[0m\u001b[0;34m=\u001b[0m\u001b[0;34m'r'\u001b[0m\u001b[0;34m)\u001b[0m \u001b[0;32mas\u001b[0m \u001b[0mh5dict\u001b[0m\u001b[0;34m:\u001b[0m\u001b[0;34m\u001b[0m\u001b[0;34m\u001b[0m\u001b[0m\n\u001b[0;32m--> 550\u001b[0;31m             \u001b[0mmodel\u001b[0m \u001b[0;34m=\u001b[0m \u001b[0m_deserialize_model\u001b[0m\u001b[0;34m(\u001b[0m\u001b[0mh5dict\u001b[0m\u001b[0;34m,\u001b[0m \u001b[0mcustom_objects\u001b[0m\u001b[0;34m,\u001b[0m \u001b[0mcompile\u001b[0m\u001b[0;34m)\u001b[0m\u001b[0;34m\u001b[0m\u001b[0;34m\u001b[0m\u001b[0m\n\u001b[0m\u001b[1;32m    551\u001b[0m     \u001b[0;32melif\u001b[0m \u001b[0mhasattr\u001b[0m\u001b[0;34m(\u001b[0m\u001b[0mfilepath\u001b[0m\u001b[0;34m,\u001b[0m \u001b[0;34m'write'\u001b[0m\u001b[0;34m)\u001b[0m \u001b[0;32mand\u001b[0m \u001b[0mcallable\u001b[0m\u001b[0;34m(\u001b[0m\u001b[0mfilepath\u001b[0m\u001b[0;34m.\u001b[0m\u001b[0mwrite\u001b[0m\u001b[0;34m)\u001b[0m\u001b[0;34m:\u001b[0m\u001b[0;34m\u001b[0m\u001b[0;34m\u001b[0m\u001b[0m\n\u001b[1;32m    552\u001b[0m         \u001b[0;32mdef\u001b[0m \u001b[0mload_function\u001b[0m\u001b[0;34m(\u001b[0m\u001b[0mh5file\u001b[0m\u001b[0;34m)\u001b[0m\u001b[0;34m:\u001b[0m\u001b[0;34m\u001b[0m\u001b[0;34m\u001b[0m\u001b[0m\n",
            "\u001b[0;32m/usr/local/lib/python3.6/dist-packages/keras/engine/saving.py\u001b[0m in \u001b[0;36m_deserialize_model\u001b[0;34m(h5dict, custom_objects, compile)\u001b[0m\n\u001b[1;32m    237\u001b[0m         \u001b[0;32mreturn\u001b[0m \u001b[0mobj\u001b[0m\u001b[0;34m\u001b[0m\u001b[0;34m\u001b[0m\u001b[0m\n\u001b[1;32m    238\u001b[0m \u001b[0;34m\u001b[0m\u001b[0m\n\u001b[0;32m--> 239\u001b[0;31m     \u001b[0mmodel_config\u001b[0m \u001b[0;34m=\u001b[0m \u001b[0mh5dict\u001b[0m\u001b[0;34m[\u001b[0m\u001b[0;34m'model_config'\u001b[0m\u001b[0;34m]\u001b[0m\u001b[0;34m\u001b[0m\u001b[0;34m\u001b[0m\u001b[0m\n\u001b[0m\u001b[1;32m    240\u001b[0m     \u001b[0;32mif\u001b[0m \u001b[0mmodel_config\u001b[0m \u001b[0;32mis\u001b[0m \u001b[0;32mNone\u001b[0m\u001b[0;34m:\u001b[0m\u001b[0;34m\u001b[0m\u001b[0;34m\u001b[0m\u001b[0m\n\u001b[1;32m    241\u001b[0m         \u001b[0;32mraise\u001b[0m \u001b[0mValueError\u001b[0m\u001b[0;34m(\u001b[0m\u001b[0;34m'No model found in config.'\u001b[0m\u001b[0;34m)\u001b[0m\u001b[0;34m\u001b[0m\u001b[0;34m\u001b[0m\u001b[0m\n",
            "\u001b[0;32m/usr/local/lib/python3.6/dist-packages/keras/utils/io_utils.py\u001b[0m in \u001b[0;36m__getitem__\u001b[0;34m(self, attr)\u001b[0m\n\u001b[1;32m    316\u001b[0m             \u001b[0;32melse\u001b[0m\u001b[0;34m:\u001b[0m\u001b[0;34m\u001b[0m\u001b[0;34m\u001b[0m\u001b[0m\n\u001b[1;32m    317\u001b[0m                 \u001b[0;32mif\u001b[0m \u001b[0mself\u001b[0m\u001b[0;34m.\u001b[0m\u001b[0mread_only\u001b[0m\u001b[0;34m:\u001b[0m\u001b[0;34m\u001b[0m\u001b[0;34m\u001b[0m\u001b[0m\n\u001b[0;32m--> 318\u001b[0;31m                     \u001b[0;32mraise\u001b[0m \u001b[0mValueError\u001b[0m\u001b[0;34m(\u001b[0m\u001b[0;34m'Cannot create group in read-only mode.'\u001b[0m\u001b[0;34m)\u001b[0m\u001b[0;34m\u001b[0m\u001b[0;34m\u001b[0m\u001b[0m\n\u001b[0m\u001b[1;32m    319\u001b[0m                 \u001b[0mval\u001b[0m \u001b[0;34m=\u001b[0m \u001b[0mH5Dict\u001b[0m\u001b[0;34m(\u001b[0m\u001b[0mself\u001b[0m\u001b[0;34m.\u001b[0m\u001b[0mdata\u001b[0m\u001b[0;34m.\u001b[0m\u001b[0mcreate_group\u001b[0m\u001b[0;34m(\u001b[0m\u001b[0mattr\u001b[0m\u001b[0;34m)\u001b[0m\u001b[0;34m)\u001b[0m\u001b[0;34m\u001b[0m\u001b[0;34m\u001b[0m\u001b[0m\n\u001b[1;32m    320\u001b[0m         \u001b[0;32mreturn\u001b[0m \u001b[0mval\u001b[0m\u001b[0;34m\u001b[0m\u001b[0;34m\u001b[0m\u001b[0m\n",
            "\u001b[0;31mValueError\u001b[0m: Cannot create group in read-only mode."
          ]
        }
      ]
    },
    {
      "cell_type": "code",
      "metadata": {
        "id": "p4K4SMct44Nm",
        "colab_type": "code",
        "colab": {
          "base_uri": "https://localhost:8080/",
          "height": 545
        },
        "outputId": "e1c27e01-819c-4844-8a11-34231a1fca9b"
      },
      "source": [
        "import matplotlib.pyplot as plt\n",
        "%matplotlib inline\n",
        "\n",
        "plt.plot(range(len(train_loss)), train_loss, label=\"train loss\")\n",
        "plt.plot(range(len(valid_loss)), valid_loss, label=\"valid loss\")\n",
        "plt.hlines(y=loss_loadback, xmin=0, xmax=len(train_loss), colors='r', linestyles='--')\n",
        "plt.legend()\n",
        "plt.title(\"Loss\")\n",
        "plt.show()\n",
        "\n",
        "plt.plot(range(len(train_acc)), train_acc, label=\"train accuracy\")\n",
        "plt.plot(range(len(valid_acc)), valid_acc, label=\"valid accuracy\")\n",
        "plt.hlines(y=acc_loadback, xmin=0, xmax=len(train_loss), colors='r', linestyles='--')\n",
        "plt.legend()\n",
        "plt.title(\"Accuracy\")\n",
        "plt.show()"
      ],
      "execution_count": 17,
      "outputs": [
        {
          "output_type": "display_data",
          "data": {
            "image/png": "[encoded data removed]",
            "text/plain": [
              "<Figure size 432x288 with 1 Axes>"
            ]
          },
          "metadata": {
            "tags": []
          }
        },
        {
          "output_type": "display_data",
          "data": {
            "image/png": "[encoded data removed]",
            "text/plain": [
              "<Figure size 432x288 with 1 Axes>"
            ]
          },
          "metadata": {
            "tags": []
          }
        }
      ]
    }
  ]
}