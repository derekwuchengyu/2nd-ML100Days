{
 "cells": [
  {
   "cell_type": "code",
   "execution_count": 2,
   "metadata": {},
   "outputs": [],
   "source": [
    "import pandas as pd\n",
    "import numpy as np\n",
    "import copy, time\n",
    "from IPython.display import display\n",
    "from sklearn.preprocessing import MinMaxScaler\n",
    "from sklearn.model_selection import cross_val_score\n",
    "from sklearn.linear_model import LinearRegression\n",
    "from sklearn.ensemble import GradientBoostingRegressor\n",
    "from sklearn.preprocessing import LabelEncoder"
   ]
  },
  {
   "cell_type": "code",
   "execution_count": 3,
   "metadata": {
    "scrolled": true
   },
   "outputs": [],
   "source": [
    "# np.random.rand(1,400)"
   ]
  },
  {
   "cell_type": "code",
   "execution_count": 8,
   "metadata": {
    "scrolled": true
   },
   "outputs": [],
   "source": [
    "DATA_ROOT = \"./data/\"\n",
    "df = pd.read_csv(DATA_ROOT + 'sample_submission.csv')\n",
    "# df"
   ]
  },
  {
   "cell_type": "code",
   "execution_count": 19,
   "metadata": {
    "scrolled": true
   },
   "outputs": [
    {
     "name": "stdout",
     "output_type": "stream",
     "text": [
      "      ID  Predicted\n",
      "0      0   0.295505\n",
      "1      1   0.796289\n",
      "2      2   0.528884\n",
      "3      3   0.369830\n",
      "4      4   0.123828\n",
      "5      5   0.386499\n",
      "6      6   0.283454\n",
      "7      7   0.791805\n",
      "8      8   0.403994\n",
      "9      9   0.156228\n",
      "10    10   0.519010\n",
      "11    11   0.654913\n",
      "12    12   0.984431\n",
      "13    13   0.474606\n",
      "14    14   0.374164\n",
      "15    15   0.654018\n",
      "16    16   0.543925\n",
      "17    17   0.058255\n",
      "18    18   0.534863\n",
      "19    19   0.708810\n",
      "20    20   0.078351\n",
      "21    21   0.818912\n",
      "22    22   0.942651\n",
      "23    23   0.989353\n",
      "24    24   0.026053\n",
      "25    25   0.323412\n",
      "26    26   0.652292\n",
      "27    27   0.386782\n",
      "28    28   0.830518\n",
      "29    29   0.504723\n",
      "..   ...        ...\n",
      "370  370   0.079195\n",
      "371  371   0.515901\n",
      "372  372   0.242249\n",
      "373  373   0.225188\n",
      "374  374   0.381425\n",
      "375  375   0.405120\n",
      "376  376   0.654481\n",
      "377  377   0.073603\n",
      "378  378   0.655886\n",
      "379  379   0.987707\n",
      "380  380   0.295895\n",
      "381  381   0.139046\n",
      "382  382   0.841354\n",
      "383  383   0.544003\n",
      "384  384   0.562905\n",
      "385  385   0.608856\n",
      "386  386   0.926954\n",
      "387  387   0.455708\n",
      "388  388   0.039106\n",
      "389  389   0.426293\n",
      "390  390   0.864981\n",
      "391  391   0.757603\n",
      "392  392   0.830023\n",
      "393  393   0.789084\n",
      "394  394   0.412171\n",
      "395  395   0.078448\n",
      "396  396   0.365755\n",
      "397  397   0.620902\n",
      "398  398   0.615860\n",
      "399  399   0.802884\n",
      "\n",
      "[400 rows x 2 columns]\n"
     ]
    }
   ],
   "source": [
    "test = pd.DataFrame({\"ID\":range(0,400),\"Predicted\":np.random.rand(1,400)[0]})\n",
    "test.set_index(\"ID\")\n",
    "test = test[[\"ID\",\"Predicted\"]]\n",
    "print(test)\n",
    "# print(df.to_csv(columns=['A', 'B', 'C'], sep='\\t', index=False))\n",
    "test.to_csv('test1.csv', index=False)"
   ]
  },
  {
   "cell_type": "code",
   "execution_count": null,
   "metadata": {},
   "outputs": [],
   "source": [
    "# blending_pred = linear_pred*0.30 + gdbt_pred*0.67 + rf_pred*0.03\n",
    "# sub = pd.DataFrame({'Id': ids, 'SalePrice': np.expm1(blending_pred)})\n",
    "# sub.to_csv('final_blending.csv', index=False)"
   ]
  }
 ],
 "metadata": {
  "kernelspec": {
   "display_name": "Python 3",
   "language": "python",
   "name": "python3"
  },
  "language_info": {
   "codemirror_mode": {
    "name": "ipython",
    "version": 3
   },
   "file_extension": ".py",
   "mimetype": "text/x-python",
   "name": "python",
   "nbconvert_exporter": "python",
   "pygments_lexer": "ipython3",
   "version": "3.7.3"
  }
 },
 "nbformat": 4,
 "nbformat_minor": 2
}
