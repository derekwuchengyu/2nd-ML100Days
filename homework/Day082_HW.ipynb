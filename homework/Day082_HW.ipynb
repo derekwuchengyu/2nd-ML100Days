{
  "nbformat": 4,
  "nbformat_minor": 0,
  "metadata": {
    "kernelspec": {
      "name": "python3",
      "display_name": "Python 3"
    },
    "language_info": {
      "codemirror_mode": {
        "name": "ipython",
        "version": 3
      },
      "file_extension": ".py",
      "mimetype": "text/x-python",
      "name": "python",
      "nbconvert_exporter": "python",
      "pygments_lexer": "ipython3",
      "version": "3.6.5"
    },
    "colab": {
      "name": "Day082_HW.ipynb",
      "provenance": [],
      "collapsed_sections": []
    },
    "accelerator": "GPU"
  },
  "cells": [
    {
      "cell_type": "markdown",
      "metadata": {
        "id": "G2qRBhMMRipn",
        "colab_type": "text"
      },
      "source": [
        "## Work\n",
        "1. 請比較使用不同層數以及不同 Dropout rate 對訓練的效果\n",
        "2. 將 optimizer 改成使用 Adam 並加上適當的 dropout rate 檢視結果"
      ]
    },
    {
      "cell_type": "code",
      "metadata": {
        "id": "0DjOp1WjRipr",
        "colab_type": "code",
        "colab": {}
      },
      "source": [
        "import os\n",
        "import keras\n",
        "import itertools\n",
        "# Disable GPU\n",
        "# os.environ[\"CUDA_VISIBLE_DEVICES\"] = \"\""
      ],
      "execution_count": 0,
      "outputs": []
    },
    {
      "cell_type": "code",
      "metadata": {
        "id": "Y_aYX2F_Rip1",
        "colab_type": "code",
        "colab": {}
      },
      "source": [
        "train, test = keras.datasets.cifar10.load_data()"
      ],
      "execution_count": 0,
      "outputs": []
    },
    {
      "cell_type": "code",
      "metadata": {
        "id": "NI3NE0QFRip8",
        "colab_type": "code",
        "colab": {}
      },
      "source": [
        "## 資料前處理\n",
        "def preproc_x(x, flatten=True):\n",
        "    x = x / 255.\n",
        "    if flatten:\n",
        "        x = x.reshape((len(x), -1))\n",
        "    return x\n",
        "\n",
        "def preproc_y(y, num_classes=10):\n",
        "    if y.shape[-1] == 1:\n",
        "        y = keras.utils.to_categorical(y, num_classes)\n",
        "    return y    "
      ],
      "execution_count": 0,
      "outputs": []
    },
    {
      "cell_type": "code",
      "metadata": {
        "id": "YFsp2LW1RiqB",
        "colab_type": "code",
        "colab": {}
      },
      "source": [
        "x_train, y_train = train\n",
        "x_test, y_test = test\n",
        "\n",
        "# Preproc the inputs\n",
        "x_train = preproc_x(x_train)\n",
        "x_test = preproc_x(x_test)\n",
        "\n",
        "# Preprc the outputs\n",
        "y_train = preproc_y(y_train)\n",
        "y_test = preproc_y(y_test)"
      ],
      "execution_count": 0,
      "outputs": []
    },
    {
      "cell_type": "code",
      "metadata": {
        "id": "MZ4d3dtWRiqK",
        "colab_type": "code",
        "colab": {}
      },
      "source": [
        "from keras.layers import Dropout\n",
        "\n",
        "\n",
        "def build_mlp(input_shape, output_units=10, num_neurons=[512, 256, 128], drp_ratio=0.2):\n",
        "    x = input_layer = keras.layers.Input(input_shape)\n",
        "    \n",
        "    for i, n_units in enumerate(num_neurons):\n",
        "        x = keras.layers.Dense(units=n_units,\n",
        "                               activation=\"relu\",\n",
        "                               name=\"hidden_layer\"+str(i+1))(x)\n",
        "        x = Dropout(drp_ratio)(x)\n",
        "        \n",
        "    out = keras.layers.Dense(units=output_units, activation=\"softmax\", name=\"output\")(x)\n",
        "    \n",
        "    model = keras.models.Model(inputs=[input_layer], outputs=[out])\n",
        "    return model"
      ],
      "execution_count": 0,
      "outputs": []
    },
    {
      "cell_type": "code",
      "metadata": {
        "id": "gz61rjN9RiqS",
        "colab_type": "code",
        "colab": {}
      },
      "source": [
        "\"\"\"Code Here\n",
        "設定超參數\n",
        "\"\"\"\n",
        "LEARNING_RATE = 1e-3\n",
        "EPOCHS = 50\n",
        "BATCH_SIZE = 256\n",
        "MOMENTUM = 0.95\n",
        "Dropout_EXP = 0.33\n"
      ],
      "execution_count": 0,
      "outputs": []
    },
    {
      "cell_type": "code",
      "metadata": {
        "scrolled": true,
        "id": "kEOwdKq5RiqY",
        "colab_type": "code",
        "colab": {
          "base_uri": "https://localhost:8080/",
          "height": 1000
        },
        "outputId": "4cdae5e8-910c-44f6-91be-9b1fce0a8579"
      },
      "source": [
        "results = {}\n",
        "\"\"\"Code Here\n",
        "撰寫你的訓練流程並將結果用 dictionary 紀錄\n",
        "\"\"\"\n",
        "model = build_mlp(input_shape=x_train.shape[1:], drp_ratio=Dropout_EXP)\n",
        "model.summary()\n",
        "\n",
        "optimizer = keras.optimizers.Adam(lr=LEARNING_RATE)\n",
        "model.compile(loss=\"categorical_crossentropy\", metrics=[\"accuracy\"], optimizer=optimizer)\n",
        "\n",
        "model.fit(x_train, y_train, \n",
        "          epochs=EPOCHS, \n",
        "          batch_size=BATCH_SIZE, \n",
        "          validation_data=(x_test, y_test), \n",
        "          shuffle=True)\n",
        "\n",
        "train_loss = model.history.history[\"loss\"]\n",
        "valid_loss = model.history.history['val_loss']\n",
        "train_acc = model.history.history['acc']\n",
        "valid_acc = model.history.history['val_acc']\n"
      ],
      "execution_count": 7,
      "outputs": [
        {
          "output_type": "stream",
          "text": [
            "WARNING:tensorflow:From /usr/local/lib/python3.6/dist-packages/keras/backend/tensorflow_backend.py:66: The name tf.get_default_graph is deprecated. Please use tf.compat.v1.get_default_graph instead.\n",
            "\n",
            "WARNING:tensorflow:From /usr/local/lib/python3.6/dist-packages/keras/backend/tensorflow_backend.py:541: The name tf.placeholder is deprecated. Please use tf.compat.v1.placeholder instead.\n",
            "\n",
            "WARNING:tensorflow:From /usr/local/lib/python3.6/dist-packages/keras/backend/tensorflow_backend.py:4432: The name tf.random_uniform is deprecated. Please use tf.random.uniform instead.\n",
            "\n",
            "WARNING:tensorflow:From /usr/local/lib/python3.6/dist-packages/keras/backend/tensorflow_backend.py:148: The name tf.placeholder_with_default is deprecated. Please use tf.compat.v1.placeholder_with_default instead.\n",
            "\n",
            "WARNING:tensorflow:From /usr/local/lib/python3.6/dist-packages/keras/backend/tensorflow_backend.py:3733: calling dropout (from tensorflow.python.ops.nn_ops) with keep_prob is deprecated and will be removed in a future version.\n",
            "Instructions for updating:\n",
            "Please use `rate` instead of `keep_prob`. Rate should be set to `rate = 1 - keep_prob`.\n",
            "Model: \"model_1\"\n",
            "_________________________________________________________________\n",
            "Layer (type)                 Output Shape              Param #   \n",
            "=================================================================\n",
            "input_1 (InputLayer)         (None, 3072)              0         \n",
            "_________________________________________________________________\n",
            "hidden_layer1 (Dense)        (None, 512)               1573376   \n",
            "_________________________________________________________________\n",
            "dropout_1 (Dropout)          (None, 512)               0         \n",
            "_________________________________________________________________\n",
            "hidden_layer2 (Dense)        (None, 256)               131328    \n",
            "_________________________________________________________________\n",
            "dropout_2 (Dropout)          (None, 256)               0         \n",
            "_________________________________________________________________\n",
            "hidden_layer3 (Dense)        (None, 128)               32896     \n",
            "_________________________________________________________________\n",
            "dropout_3 (Dropout)          (None, 128)               0         \n",
            "_________________________________________________________________\n",
            "output (Dense)               (None, 10)                1290      \n",
            "=================================================================\n",
            "Total params: 1,738,890\n",
            "Trainable params: 1,738,890\n",
            "Non-trainable params: 0\n",
            "_________________________________________________________________\n",
            "WARNING:tensorflow:From /usr/local/lib/python3.6/dist-packages/keras/optimizers.py:793: The name tf.train.Optimizer is deprecated. Please use tf.compat.v1.train.Optimizer instead.\n",
            "\n",
            "WARNING:tensorflow:From /usr/local/lib/python3.6/dist-packages/keras/backend/tensorflow_backend.py:3576: The name tf.log is deprecated. Please use tf.math.log instead.\n",
            "\n",
            "WARNING:tensorflow:From /usr/local/lib/python3.6/dist-packages/tensorflow/python/ops/math_grad.py:1250: add_dispatch_support.<locals>.wrapper (from tensorflow.python.ops.array_ops) is deprecated and will be removed in a future version.\n",
            "Instructions for updating:\n",
            "Use tf.where in 2.0, which has the same broadcast rule as np.where\n",
            "Train on 50000 samples, validate on 10000 samples\n",
            "Epoch 1/50\n",
            "50000/50000 [==============================] - 8s 163us/step - loss: 2.0497 - acc: 0.2395 - val_loss: 1.8307 - val_acc: 0.3439\n",
            "Epoch 2/50\n",
            "50000/50000 [==============================] - 3s 57us/step - loss: 1.8823 - acc: 0.3145 - val_loss: 1.7747 - val_acc: 0.3509\n",
            "Epoch 3/50\n",
            "50000/50000 [==============================] - 3s 55us/step - loss: 1.8314 - acc: 0.3365 - val_loss: 1.7041 - val_acc: 0.3964\n",
            "Epoch 4/50\n",
            "50000/50000 [==============================] - 3s 55us/step - loss: 1.7854 - acc: 0.3585 - val_loss: 1.6960 - val_acc: 0.3910\n",
            "Epoch 5/50\n",
            "50000/50000 [==============================] - 3s 54us/step - loss: 1.7537 - acc: 0.3678 - val_loss: 1.6483 - val_acc: 0.4139\n",
            "Epoch 6/50\n",
            "50000/50000 [==============================] - 3s 52us/step - loss: 1.7181 - acc: 0.3787 - val_loss: 1.6245 - val_acc: 0.4276\n",
            "Epoch 7/50\n",
            "50000/50000 [==============================] - 3s 53us/step - loss: 1.7171 - acc: 0.3814 - val_loss: 1.6155 - val_acc: 0.4295\n",
            "Epoch 8/50\n",
            "50000/50000 [==============================] - 3s 52us/step - loss: 1.6961 - acc: 0.3885 - val_loss: 1.6046 - val_acc: 0.4334\n",
            "Epoch 9/50\n",
            "50000/50000 [==============================] - 3s 53us/step - loss: 1.6862 - acc: 0.3921 - val_loss: 1.5908 - val_acc: 0.4374\n",
            "Epoch 10/50\n",
            "50000/50000 [==============================] - 3s 52us/step - loss: 1.6689 - acc: 0.3965 - val_loss: 1.5932 - val_acc: 0.4450\n",
            "Epoch 11/50\n",
            "50000/50000 [==============================] - 3s 55us/step - loss: 1.6579 - acc: 0.4028 - val_loss: 1.6071 - val_acc: 0.4265\n",
            "Epoch 12/50\n",
            "50000/50000 [==============================] - 3s 54us/step - loss: 1.6406 - acc: 0.4109 - val_loss: 1.5582 - val_acc: 0.4524\n",
            "Epoch 13/50\n",
            "50000/50000 [==============================] - 3s 53us/step - loss: 1.6461 - acc: 0.4097 - val_loss: 1.5549 - val_acc: 0.4486\n",
            "Epoch 14/50\n",
            "50000/50000 [==============================] - 3s 52us/step - loss: 1.6269 - acc: 0.4114 - val_loss: 1.5788 - val_acc: 0.4383\n",
            "Epoch 15/50\n",
            "50000/50000 [==============================] - 3s 53us/step - loss: 1.6149 - acc: 0.4190 - val_loss: 1.5429 - val_acc: 0.4523\n",
            "Epoch 16/50\n",
            "50000/50000 [==============================] - 3s 53us/step - loss: 1.6158 - acc: 0.4171 - val_loss: 1.5428 - val_acc: 0.4556\n",
            "Epoch 17/50\n",
            "50000/50000 [==============================] - 3s 53us/step - loss: 1.5973 - acc: 0.4271 - val_loss: 1.5023 - val_acc: 0.4665\n",
            "Epoch 18/50\n",
            "50000/50000 [==============================] - 3s 53us/step - loss: 1.5972 - acc: 0.4272 - val_loss: 1.5461 - val_acc: 0.4477\n",
            "Epoch 19/50\n",
            "50000/50000 [==============================] - 3s 54us/step - loss: 1.5892 - acc: 0.4307 - val_loss: 1.5301 - val_acc: 0.4550\n",
            "Epoch 20/50\n",
            "50000/50000 [==============================] - 3s 53us/step - loss: 1.5952 - acc: 0.4263 - val_loss: 1.5307 - val_acc: 0.4603\n",
            "Epoch 21/50\n",
            "50000/50000 [==============================] - 3s 55us/step - loss: 1.5833 - acc: 0.4305 - val_loss: 1.5088 - val_acc: 0.4651\n",
            "Epoch 22/50\n",
            "50000/50000 [==============================] - 3s 54us/step - loss: 1.5696 - acc: 0.4354 - val_loss: 1.4948 - val_acc: 0.4669\n",
            "Epoch 23/50\n",
            "50000/50000 [==============================] - 3s 53us/step - loss: 1.5682 - acc: 0.4355 - val_loss: 1.5023 - val_acc: 0.4622\n",
            "Epoch 24/50\n",
            "50000/50000 [==============================] - 3s 54us/step - loss: 1.5733 - acc: 0.4352 - val_loss: 1.5036 - val_acc: 0.4729\n",
            "Epoch 25/50\n",
            "50000/50000 [==============================] - 3s 54us/step - loss: 1.5679 - acc: 0.4362 - val_loss: 1.4958 - val_acc: 0.4631\n",
            "Epoch 26/50\n",
            "50000/50000 [==============================] - 3s 54us/step - loss: 1.5626 - acc: 0.4385 - val_loss: 1.5019 - val_acc: 0.4608\n",
            "Epoch 27/50\n",
            "50000/50000 [==============================] - 3s 53us/step - loss: 1.5603 - acc: 0.4369 - val_loss: 1.4891 - val_acc: 0.4657\n",
            "Epoch 28/50\n",
            "50000/50000 [==============================] - 3s 54us/step - loss: 1.5469 - acc: 0.4422 - val_loss: 1.4783 - val_acc: 0.4845\n",
            "Epoch 29/50\n",
            "50000/50000 [==============================] - 3s 54us/step - loss: 1.5551 - acc: 0.4364 - val_loss: 1.4994 - val_acc: 0.4690\n",
            "Epoch 30/50\n",
            "50000/50000 [==============================] - 3s 53us/step - loss: 1.5416 - acc: 0.4458 - val_loss: 1.5117 - val_acc: 0.4689\n",
            "Epoch 31/50\n",
            "50000/50000 [==============================] - 3s 53us/step - loss: 1.5392 - acc: 0.4429 - val_loss: 1.4893 - val_acc: 0.4729\n",
            "Epoch 32/50\n",
            "50000/50000 [==============================] - 3s 52us/step - loss: 1.5361 - acc: 0.4471 - val_loss: 1.4968 - val_acc: 0.4679\n",
            "Epoch 33/50\n",
            "50000/50000 [==============================] - 3s 53us/step - loss: 1.5349 - acc: 0.4465 - val_loss: 1.4911 - val_acc: 0.4686\n",
            "Epoch 34/50\n",
            "50000/50000 [==============================] - 3s 54us/step - loss: 1.5249 - acc: 0.4519 - val_loss: 1.4744 - val_acc: 0.4810\n",
            "Epoch 35/50\n",
            "50000/50000 [==============================] - 3s 53us/step - loss: 1.5212 - acc: 0.4505 - val_loss: 1.5005 - val_acc: 0.4721\n",
            "Epoch 36/50\n",
            "50000/50000 [==============================] - 3s 53us/step - loss: 1.5272 - acc: 0.4506 - val_loss: 1.4712 - val_acc: 0.4836\n",
            "Epoch 37/50\n",
            "50000/50000 [==============================] - 3s 53us/step - loss: 1.5102 - acc: 0.4560 - val_loss: 1.4589 - val_acc: 0.4815\n",
            "Epoch 38/50\n",
            "50000/50000 [==============================] - 3s 53us/step - loss: 1.5131 - acc: 0.4562 - val_loss: 1.4740 - val_acc: 0.4765\n",
            "Epoch 39/50\n",
            "50000/50000 [==============================] - 3s 54us/step - loss: 1.5214 - acc: 0.4543 - val_loss: 1.4730 - val_acc: 0.4804\n",
            "Epoch 40/50\n",
            "50000/50000 [==============================] - 3s 53us/step - loss: 1.5165 - acc: 0.4546 - val_loss: 1.4764 - val_acc: 0.4729\n",
            "Epoch 41/50\n",
            "50000/50000 [==============================] - 3s 53us/step - loss: 1.5033 - acc: 0.4597 - val_loss: 1.4744 - val_acc: 0.4768\n",
            "Epoch 42/50\n",
            "50000/50000 [==============================] - 3s 53us/step - loss: 1.5063 - acc: 0.4588 - val_loss: 1.5029 - val_acc: 0.4693\n",
            "Epoch 43/50\n",
            "50000/50000 [==============================] - 3s 53us/step - loss: 1.5098 - acc: 0.4575 - val_loss: 1.4694 - val_acc: 0.4789\n",
            "Epoch 44/50\n",
            "50000/50000 [==============================] - 3s 52us/step - loss: 1.5039 - acc: 0.4583 - val_loss: 1.4649 - val_acc: 0.4808\n",
            "Epoch 45/50\n",
            "50000/50000 [==============================] - 3s 53us/step - loss: 1.5046 - acc: 0.4596 - val_loss: 1.4409 - val_acc: 0.4920\n",
            "Epoch 46/50\n",
            "50000/50000 [==============================] - 3s 52us/step - loss: 1.4983 - acc: 0.4615 - val_loss: 1.4466 - val_acc: 0.4849\n",
            "Epoch 47/50\n",
            "50000/50000 [==============================] - 3s 51us/step - loss: 1.4951 - acc: 0.4629 - val_loss: 1.4784 - val_acc: 0.4752\n",
            "Epoch 48/50\n",
            "50000/50000 [==============================] - 3s 54us/step - loss: 1.4875 - acc: 0.4670 - val_loss: 1.4499 - val_acc: 0.4861\n",
            "Epoch 49/50\n",
            "50000/50000 [==============================] - 3s 55us/step - loss: 1.4884 - acc: 0.4646 - val_loss: 1.4573 - val_acc: 0.4876\n",
            "Epoch 50/50\n",
            "50000/50000 [==============================] - 3s 70us/step - loss: 1.4913 - acc: 0.4659 - val_loss: 1.4707 - val_acc: 0.4781\n"
          ],
          "name": "stdout"
        }
      ]
    },
    {
      "cell_type": "code",
      "metadata": {
        "id": "LcrlDpKGRiqf",
        "colab_type": "code",
        "colab": {
          "base_uri": "https://localhost:8080/",
          "height": 545
        },
        "outputId": "f15cf48d-c474-4d77-eda3-fbc92a70a504"
      },
      "source": [
        "import matplotlib.pyplot as plt\n",
        "%matplotlib inline\n",
        "\n",
        "plt.plot(range(len(train_loss)), train_loss, label=\"train loss\")\n",
        "plt.plot(range(len(valid_loss)), valid_loss, label=\"valid loss\")\n",
        "plt.legend()\n",
        "plt.title(\"Loss\")\n",
        "plt.show()\n",
        "\n",
        "plt.plot(range(len(train_acc)), train_acc, label=\"train accuracy\")\n",
        "plt.plot(range(len(valid_acc)), valid_acc, label=\"valid accuracy\")\n",
        "plt.legend()\n",
        "plt.title(\"Accuracy\")\n",
        "plt.show()"
      ],
      "execution_count": 15,
      "outputs": [
        {
          "output_type": "display_data",
          "data": {
            "image/png": "[encoded data removed]",
            "text/plain": [
              "<Figure size 432x288 with 1 Axes>"
            ]
          },
          "metadata": {
            "tags": []
          }
        },
        {
          "output_type": "display_data",
          "data": {
            "image/png": "[encoded data removed]",
            "text/plain": [
              "<Figure size 432x288 with 1 Axes>"
            ]
          },
          "metadata": {
            "tags": []
          }
        }
      ]
    },
    {
      "cell_type": "code",
      "metadata": {
        "id": "tDQrs9z5bZLP",
        "colab_type": "code",
        "colab": {}
      },
      "source": [
        ""
      ],
      "execution_count": 0,
      "outputs": []
    }
  ]
}