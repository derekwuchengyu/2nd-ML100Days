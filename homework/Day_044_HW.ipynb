{
 "cells": [
  {
   "cell_type": "markdown",
   "metadata": {},
   "source": [
    "## [作業重點]\n",
    "確保你了解隨機森林模型中每個超參數的意義，並觀察調整超參數對結果的影響"
   ]
  },
  {
   "cell_type": "markdown",
   "metadata": {},
   "source": [
    "## 作業\n",
    "\n",
    "1. 試著調整 RandomForestClassifier(...) 中的參數，並觀察是否會改變結果？\n",
    "2. 改用其他資料集 (boston, wine)，並與回歸模型與決策樹的結果進行比較"
   ]
  },
  {
   "cell_type": "code",
   "execution_count": 94,
   "metadata": {},
   "outputs": [],
   "source": [
    "from sklearn import datasets, metrics\n",
    "from sklearn.datasets import load_boston, load_wine\n",
    "from sklearn.ensemble import RandomForestClassifier, RandomForestRegressor\n",
    "from sklearn.tree import DecisionTreeClassifier, DecisionTreeRegressor\n",
    "from sklearn.model_selection import train_test_split\n",
    "from sklearn.metrics import mean_squared_error, r2_score, accuracy_score"
   ]
  },
  {
   "cell_type": "code",
   "execution_count": 164,
   "metadata": {},
   "outputs": [
    {
     "name": "stdout",
     "output_type": "stream",
     "text": [
      "Mean squared error: 41.05\n",
      "Mean squared error: 17.73\n",
      "Mean squared error: 10.89\n",
      "Mean squared error: 9.14\n",
      "Mean squared error: 22.51\n"
     ]
    }
   ],
   "source": [
    "boston = datasets.load_boston()\n",
    "# wine = load_wine()\n",
    "train_x,test_x,train_y,test_y = train_test_split(boston.data,boston.target,test_size=0.1,random_state=4)\n",
    "\n",
    "\n",
    "rfc = RandomForestRegressor(n_estimators=1,max_depth=1)\n",
    "rfc.fit(train_x,train_y)\n",
    "r_pred = rfc.predict(test_x)\n",
    "print(\"Mean squared error: %.2f\" % mean_squared_error(y_test, r_pred))\n",
    "\n",
    "rfc1 = RandomForestRegressor(n_estimators=3,max_depth=3)\n",
    "rfc1.fit(train_x,train_y)\n",
    "r_pred = rfc1.predict(test_x)\n",
    "print(\"Mean squared error: %.2f\" % mean_squared_error(y_test, r_pred))\n",
    "\n",
    "rfc2 = RandomForestRegressor(n_estimators=3,max_depth=6)\n",
    "rfc2.fit(train_x,train_y)\n",
    "r_pred = rfc2.predict(test_x)\n",
    "print(\"Mean squared error: %.2f\" % mean_squared_error(y_test, r_pred))\n",
    "\n",
    "rfc1 = RandomForestRegressor(n_estimators=10,max_depth=10)\n",
    "rfc1.fit(train_x,train_y)\n",
    "r_pred = rfc1.predict(test_x)\n",
    "print(\"Mean squared error: %.2f\" % mean_squared_error(y_test, r_pred))\n",
    "\n",
    "dtc = DecisionTreeRegressor()\n",
    "dtc.fit(train_x,train_y)\n",
    "d_pred = dtc.predict(test_x)\n",
    "print(\"Mean squared error: %.2f\" % mean_squared_error(y_test, d_pred))"
   ]
  }
 ],
 "metadata": {
  "kernelspec": {
   "display_name": "Python 3",
   "language": "python",
   "name": "python3"
  },
  "language_info": {
   "codemirror_mode": {
    "name": "ipython",
    "version": 3
   },
   "file_extension": ".py",
   "mimetype": "text/x-python",
   "name": "python",
   "nbconvert_exporter": "python",
   "pygments_lexer": "ipython3",
   "version": "3.6.1"
  }
 },
 "nbformat": 4,
 "nbformat_minor": 2
}
